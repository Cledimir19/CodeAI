{
 "cells": [
  {
   "cell_type": "code",
   "execution_count": 55,
   "id": "08ef46bf",
   "metadata": {},
   "outputs": [],
   "source": [
    "import pandas as pd\n",
    "from rich import print\n"
   ]
  },
  {
   "cell_type": "code",
   "execution_count": 56,
   "id": "6e1d329a",
   "metadata": {},
   "outputs": [],
   "source": [
    "data = pd.read_csv('../../data/structured/carbon.csv')"
   ]
  },
  {
   "cell_type": "code",
   "execution_count": 57,
   "id": "50005308",
   "metadata": {},
   "outputs": [],
   "source": [
    "data.drop(columns=['TID', 'logger'],inplace=True)\n"
   ]
  },
  {
   "cell_type": "code",
   "execution_count": 58,
   "id": "16fd0260",
   "metadata": {},
   "outputs": [],
   "source": [
    "def organizar_por_timestamp_context(df, col_timestamp='timestamp', col_context='context'):\n",
    "    \"\"\"\n",
    "    Ordena o DataFrame pelo timestamp crescente e depois pelo context.\n",
    "    \n",
    "    Parâmetros:\n",
    "        df: pandas.DataFrame\n",
    "        col_timestamp: nome da coluna de timestamp\n",
    "        col_context: nome da coluna de contexto\n",
    "    Retorna:\n",
    "        DataFrame ordenado\n",
    "    \"\"\"\n",
    "    # Garantir que a coluna de timestamp é datetime\n",
    "    df[col_timestamp] = pd.to_datetime(df[col_timestamp])\n",
    "    # Ordenar pelos dois campos\n",
    "    df_ordenado = df.sort_values(by=[col_context,col_timestamp], ascending=[True, True]).reset_index(drop=True)\n",
    "    return df_ordenado\n",
    "\n",
    "data = organizar_por_timestamp_context(data)\n"
   ]
  },
  {
   "cell_type": "code",
   "execution_count": 60,
   "id": "febfad7d",
   "metadata": {},
   "outputs": [
    {
     "data": {
      "text/html": [
       "<pre style=\"white-space:pre;overflow-x:auto;line-height:normal;font-family:Menlo,'DejaVu Sans Mono',consolas,'Courier New',monospace\"><span style=\"color: #008080; text-decoration-color: #008080; font-weight: bold\">0</span>\n",
       "</pre>\n"
      ],
      "text/plain": [
       "\u001b[1;36m0\u001b[0m\n"
      ]
     },
     "metadata": {},
     "output_type": "display_data"
    },
    {
     "data": {
      "text/plain": [
       "(1015234, 4)"
      ]
     },
     "execution_count": 60,
     "metadata": {},
     "output_type": "execute_result"
    }
   ],
   "source": [
    "data.drop_duplicates(inplace=True)\n",
    "print(data.duplicated().sum())\n",
    "data.shape"
   ]
  },
  {
   "cell_type": "code",
   "execution_count": 61,
   "id": "c324ed29",
   "metadata": {},
   "outputs": [],
   "source": [
    "data['timestamp'] = pd.to_datetime(data['timestamp'])\n",
    "data['mes'] = data['timestamp'].dt.month\n",
    "data['dia'] = data['timestamp'].dt.day\n",
    "data['hora'] = data['timestamp'].dt.hour\n",
    "data['minuto'] = data['timestamp'].dt.minute\n",
    "data['segundo'] = data['timestamp'].dt.second\n",
    "data.drop(columns=['timestamp'], inplace=True)\n",
    "data.drop_duplicates(inplace=True)"
   ]
  },
  {
   "cell_type": "code",
   "execution_count": 62,
   "id": "54fae7a5",
   "metadata": {},
   "outputs": [
    {
     "data": {
      "application/vnd.microsoft.datawrangler.viewer.v0+json": {
       "columns": [
        {
         "name": "index",
         "rawType": "int64",
         "type": "integer"
        },
        {
         "name": "level",
         "rawType": "object",
         "type": "string"
        },
        {
         "name": "context",
         "rawType": "object",
         "type": "string"
        },
        {
         "name": "message",
         "rawType": "object",
         "type": "string"
        },
        {
         "name": "mes",
         "rawType": "int32",
         "type": "integer"
        },
        {
         "name": "dia",
         "rawType": "int32",
         "type": "integer"
        },
        {
         "name": "hora",
         "rawType": "int32",
         "type": "integer"
        },
        {
         "name": "minuto",
         "rawType": "int32",
         "type": "integer"
        },
        {
         "name": "segundo",
         "rawType": "int32",
         "type": "integer"
        }
       ],
       "ref": "ea1d4d0a-a698-4a54-bbbd-64a818ab4012",
       "rows": [
        [
         "0",
         "ERROR",
         "API_LOGGER._OpenService_",
         "Error while building message. Error while building Passthrough stream org.apache.axis2.AxisFault: Error while building Passthrough stream",
         "12",
         "3",
         "19",
         "37",
         "10"
        ],
        [
         "1",
         "ERROR",
         "API_LOGGER._OpenService_",
         "Error while building message. Error while building Passthrough stream org.apache.axis2.AxisFault: Error while building Passthrough stream",
         "12",
         "3",
         "19",
         "37",
         "12"
        ],
        [
         "2",
         "ERROR",
         "API_LOGGER._OpenService_",
         "Error while building message. Error while building Passthrough stream org.apache.axis2.AxisFault: Error while building Passthrough stream",
         "12",
         "3",
         "20",
         "12",
         "12"
        ],
        [
         "3",
         "ERROR",
         "API_LOGGER._OpenService_",
         "Error while building message. Error while building Passthrough stream org.apache.axis2.AxisFault: Error while building Passthrough stream",
         "1",
         "3",
         "19",
         "46",
         "13"
        ],
        [
         "4",
         "ERROR",
         "java.lang.Class",
         "Access Denied. Failed authorization attempt to access service 'UserStoreConfigAdminService' operation 'getSecondaryRealmConfigurations' by 'monica.f.borges@nosi.cv'",
         "12",
         "2",
         "12",
         "27",
         "22"
        ],
        [
         "6",
         "ERROR",
         "java.lang.Class",
         "Access Denied. Failed authorization attempt to access service 'UserStoreCountService' operation 'getCountEnabledUserStores' by 'monica.f.borges@nosi.cv'",
         "12",
         "2",
         "12",
         "27",
         "32"
        ],
        [
         "7",
         "ERROR",
         "java.lang.Class",
         "Access Denied. Failed authorization attempt to access service 'UserStoreCountService' operation 'getCountEnabledUserStores' by 'monica.f.borges@nosi.cv'",
         "12",
         "2",
         "12",
         "30",
         "12"
        ],
        [
         "8",
         "ERROR",
         "java.lang.Class",
         "Access Denied. Failed authorization attempt to access service 'UserStoreConfigAdminService' operation 'getSecondaryRealmConfigurations' by 'monica.f.borges@nosi.cv'",
         "12",
         "2",
         "12",
         "30",
         "15"
        ],
        [
         "10",
         "WARN",
         "org.apache.axis2.description.java2wsdl.DefaultSchemaGenerator",
         "We don't support method overloading. Ignoring [generateUpdatedAPIFromSwagger]",
         "11",
         "15",
         "15",
         "50",
         "32"
        ],
        [
         "11",
         "WARN",
         "org.apache.axis2.description.java2wsdl.DefaultSchemaGenerator",
         "We don't support method overloading. Ignoring [generateUpdatedAPIFromSwagger]",
         "11",
         "15",
         "15",
         "54",
         "44"
        ],
        [
         "12",
         "WARN",
         "org.apache.axis2.description.java2wsdl.DefaultSchemaGenerator",
         "We don't support method overloading. Ignoring [generateUpdatedAPIFromSwagger]",
         "11",
         "15",
         "15",
         "55",
         "48"
        ],
        [
         "13",
         "WARN",
         "org.apache.axis2.description.java2wsdl.DefaultSchemaGenerator",
         "We don't support method overloading. Ignoring [generateUpdatedAPIFromSwagger]",
         "11",
         "15",
         "16",
         "4",
         "48"
        ],
        [
         "14",
         "WARN",
         "org.apache.axis2.description.java2wsdl.DefaultSchemaGenerator",
         "We don't support method overloading. Ignoring [generateUpdatedAPIFromSwagger]",
         "11",
         "17",
         "20",
         "7",
         "48"
        ],
        [
         "15",
         "WARN",
         "org.apache.axis2.description.java2wsdl.DefaultSchemaGenerator",
         "We don't support method overloading. Ignoring [generateUpdatedAPIFromSwagger]",
         "11",
         "18",
         "8",
         "36",
         "46"
        ],
        [
         "16",
         "WARN",
         "org.apache.axis2.description.java2wsdl.DefaultSchemaGenerator",
         "We don't support method overloading. Ignoring [generateUpdatedAPIFromSwagger]",
         "11",
         "18",
         "9",
         "34",
         "58"
        ],
        [
         "17",
         "WARN",
         "org.apache.axis2.description.java2wsdl.DefaultSchemaGenerator",
         "We don't support method overloading. Ignoring [generateUpdatedAPIFromSwagger]",
         "11",
         "18",
         "9",
         "45",
         "51"
        ],
        [
         "18",
         "WARN",
         "org.apache.axis2.description.java2wsdl.DefaultSchemaGenerator",
         "We don't support method overloading. Ignoring [generateUpdatedAPIFromSwagger]",
         "11",
         "18",
         "9",
         "52",
         "52"
        ],
        [
         "19",
         "WARN",
         "org.apache.axis2.description.java2wsdl.DefaultSchemaGenerator",
         "We don't support method overloading. Ignoring [generateUpdatedAPIFromSwagger]",
         "11",
         "20",
         "15",
         "34",
         "46"
        ],
        [
         "20",
         "WARN",
         "org.apache.axis2.description.java2wsdl.DefaultSchemaGenerator",
         "We don't support method overloading. Ignoring [generateUpdatedAPIFromSwagger]",
         "11",
         "20",
         "15",
         "46",
         "33"
        ],
        [
         "21",
         "WARN",
         "org.apache.axis2.description.java2wsdl.DefaultSchemaGenerator",
         "We don't support method overloading. Ignoring [generateUpdatedAPIFromSwagger]",
         "11",
         "20",
         "19",
         "34",
         "55"
        ],
        [
         "22",
         "WARN",
         "org.apache.axis2.description.java2wsdl.DefaultSchemaGenerator",
         "We don't support method overloading. Ignoring [generateUpdatedAPIFromSwagger]",
         "11",
         "24",
         "19",
         "26",
         "31"
        ],
        [
         "23",
         "WARN",
         "org.apache.axis2.description.java2wsdl.DefaultSchemaGenerator",
         "We don't support method overloading. Ignoring [generateUpdatedAPIFromSwagger]",
         "11",
         "29",
         "16",
         "5",
         "16"
        ],
        [
         "24",
         "WARN",
         "org.apache.axis2.description.java2wsdl.DefaultSchemaGenerator",
         "We don't support method overloading. Ignoring [generateUpdatedAPIFromSwagger]",
         "11",
         "29",
         "16",
         "13",
         "19"
        ],
        [
         "25",
         "WARN",
         "org.apache.axis2.description.java2wsdl.DefaultSchemaGenerator",
         "We don't support method overloading. Ignoring [generateUpdatedAPIFromSwagger]",
         "11",
         "29",
         "16",
         "18",
         "35"
        ],
        [
         "26",
         "WARN",
         "org.apache.axis2.description.java2wsdl.DefaultSchemaGenerator",
         "We don't support method overloading. Ignoring [generateUpdatedAPIFromSwagger]",
         "11",
         "29",
         "16",
         "28",
         "29"
        ],
        [
         "27",
         "WARN",
         "org.apache.axis2.description.java2wsdl.DefaultSchemaGenerator",
         "We don't support method overloading. Ignoring [generateUpdatedAPIFromSwagger]",
         "11",
         "29",
         "16",
         "46",
         "29"
        ],
        [
         "28",
         "WARN",
         "org.apache.axis2.description.java2wsdl.DefaultSchemaGenerator",
         "We don't support method overloading. Ignoring [generateUpdatedAPIFromSwagger]",
         "12",
         "2",
         "16",
         "10",
         "2"
        ],
        [
         "29",
         "WARN",
         "org.apache.axis2.description.java2wsdl.DefaultSchemaGenerator",
         "We don't support method overloading. Ignoring [generateUpdatedAPIFromSwagger]",
         "12",
         "4",
         "11",
         "24",
         "14"
        ],
        [
         "30",
         "WARN",
         "org.apache.axis2.description.java2wsdl.DefaultSchemaGenerator",
         "We don't support method overloading. Ignoring [generateUpdatedAPIFromSwagger]",
         "12",
         "5",
         "15",
         "35",
         "38"
        ],
        [
         "31",
         "WARN",
         "org.apache.axis2.description.java2wsdl.DefaultSchemaGenerator",
         "We don't support method overloading. Ignoring [generateUpdatedAPIFromSwagger]",
         "1",
         "6",
         "12",
         "7",
         "9"
        ],
        [
         "32",
         "ERROR",
         "org.apache.axis2.engine.AxisEngine",
         "Access Denied. org.apache.axis2.AxisFault: Access Denied.",
         "12",
         "2",
         "12",
         "27",
         "22"
        ],
        [
         "34",
         "ERROR",
         "org.apache.axis2.engine.AxisEngine",
         "Access Denied. org.apache.axis2.AxisFault: Access Denied.",
         "12",
         "2",
         "12",
         "27",
         "32"
        ],
        [
         "35",
         "ERROR",
         "org.apache.axis2.engine.AxisEngine",
         "Access Denied. org.apache.axis2.AxisFault: Access Denied.",
         "12",
         "2",
         "12",
         "30",
         "12"
        ],
        [
         "36",
         "ERROR",
         "org.apache.axis2.engine.AxisEngine",
         "Access Denied. org.apache.axis2.AxisFault: Access Denied.",
         "12",
         "2",
         "12",
         "30",
         "15"
        ],
        [
         "38",
         "ERROR",
         "org.apache.axis2.engine.AxisEngine",
         "The endpoint reference (EPR) for the Operation not found is /services/echo and the WSA Action = null. If this EPR was previously reachable, please contact the server administrator. org.apache.axis2.AxisFault: The endpoint reference (EPR) for the Operation not found is /services/echo and the WSA Action = null. If this EPR was previously reachable, please contact the server administrator.",
         "12",
         "3",
         "19",
         "43",
         "30"
        ],
        [
         "39",
         "ERROR",
         "org.apache.axis2.engine.AxisEngine",
         "The endpoint reference (EPR) for the Operation not found is /services/WorkflowCallbackService and the WSA Action = null. If this EPR was previously reachable, please contact the server administrator. org.apache.axis2.AxisFault: The endpoint reference (EPR) for the Operation not found is /services/WorkflowCallbackService and the WSA Action = null. If this EPR was previously reachable, please contact the server administrator.",
         "12",
         "3",
         "19",
         "43",
         "30"
        ],
        [
         "40",
         "ERROR",
         "org.apache.axis2.engine.AxisEngine",
         "The endpoint reference (EPR) for the Operation not found is /services/echo and the WSA Action = null. If this EPR was previously reachable, please contact the server administrator. org.apache.axis2.AxisFault: The endpoint reference (EPR) for the Operation not found is /services/echo and the WSA Action = null. If this EPR was previously reachable, please contact the server administrator.",
         "12",
         "3",
         "20",
         "1",
         "24"
        ],
        [
         "41",
         "ERROR",
         "org.apache.axis2.engine.AxisEngine",
         "The endpoint reference (EPR) for the Operation not found is /services/WorkflowCallbackService and the WSA Action = null. If this EPR was previously reachable, please contact the server administrator. org.apache.axis2.AxisFault: The endpoint reference (EPR) for the Operation not found is /services/WorkflowCallbackService and the WSA Action = null. If this EPR was previously reachable, please contact the server administrator.",
         "12",
         "3",
         "20",
         "1",
         "24"
        ],
        [
         "42",
         "ERROR",
         "org.apache.axis2.engine.AxisEngine",
         "The endpoint reference (EPR) for the Operation not found is /services/echo and the WSA Action = null. If this EPR was previously reachable, please contact the server administrator. org.apache.axis2.AxisFault: The endpoint reference (EPR) for the Operation not found is /services/echo and the WSA Action = null. If this EPR was previously reachable, please contact the server administrator.",
         "12",
         "3",
         "20",
         "21",
         "47"
        ],
        [
         "43",
         "ERROR",
         "org.apache.axis2.engine.AxisEngine",
         "The endpoint reference (EPR) for the Operation not found is /services/WorkflowCallbackService and the WSA Action = null. If this EPR was previously reachable, please contact the server administrator. org.apache.axis2.AxisFault: The endpoint reference (EPR) for the Operation not found is /services/WorkflowCallbackService and the WSA Action = null. If this EPR was previously reachable, please contact the server administrator.",
         "12",
         "3",
         "20",
         "21",
         "47"
        ],
        [
         "44",
         "ERROR",
         "org.apache.axis2.engine.AxisEngine",
         "The endpoint reference (EPR) for the Operation not found is /services/echo and the WSA Action = null. If this EPR was previously reachable, please contact the server administrator. org.apache.axis2.AxisFault: The endpoint reference (EPR) for the Operation not found is /services/echo and the WSA Action = null. If this EPR was previously reachable, please contact the server administrator.",
         "12",
         "3",
         "20",
         "21",
         "48"
        ],
        [
         "45",
         "ERROR",
         "org.apache.axis2.engine.AxisEngine",
         "The endpoint reference (EPR) for the Operation not found is /services/WorkflowCallbackService and the WSA Action = null. If this EPR was previously reachable, please contact the server administrator. org.apache.axis2.AxisFault: The endpoint reference (EPR) for the Operation not found is /services/WorkflowCallbackService and the WSA Action = null. If this EPR was previously reachable, please contact the server administrator.",
         "12",
         "3",
         "20",
         "21",
         "48"
        ],
        [
         "46",
         "ERROR",
         "org.apache.axis2.engine.AxisEngine",
         "The endpoint reference (EPR) for the Operation not found is /services/echo and the WSA Action = null. If this EPR was previously reachable, please contact the server administrator. org.apache.axis2.AxisFault: The endpoint reference (EPR) for the Operation not found is /services/echo and the WSA Action = null. If this EPR was previously reachable, please contact the server administrator.",
         "1",
         "3",
         "19",
         "9",
         "3"
        ],
        [
         "47",
         "ERROR",
         "org.apache.axis2.engine.AxisEngine",
         "The endpoint reference (EPR) for the Operation not found is /services/WorkflowCallbackService and the WSA Action = null. If this EPR was previously reachable, please contact the server administrator. org.apache.axis2.AxisFault: The endpoint reference (EPR) for the Operation not found is /services/WorkflowCallbackService and the WSA Action = null. If this EPR was previously reachable, please contact the server administrator.",
         "1",
         "3",
         "19",
         "9",
         "3"
        ],
        [
         "48",
         "ERROR",
         "org.apache.axis2.engine.AxisEngine",
         "The endpoint reference (EPR) for the Operation not found is /services/echo and the WSA Action = null. If this EPR was previously reachable, please contact the server administrator. org.apache.axis2.AxisFault: The endpoint reference (EPR) for the Operation not found is /services/echo and the WSA Action = null. If this EPR was previously reachable, please contact the server administrator.",
         "1",
         "3",
         "19",
         "54",
         "23"
        ],
        [
         "49",
         "ERROR",
         "org.apache.axis2.engine.AxisEngine",
         "The endpoint reference (EPR) for the Operation not found is /services/WorkflowCallbackService and the WSA Action = null. If this EPR was previously reachable, please contact the server administrator. org.apache.axis2.AxisFault: The endpoint reference (EPR) for the Operation not found is /services/WorkflowCallbackService and the WSA Action = null. If this EPR was previously reachable, please contact the server administrator.",
         "1",
         "3",
         "19",
         "54",
         "23"
        ],
        [
         "50",
         "ERROR",
         "org.apache.axis2.engine.AxisEngine",
         "The endpoint reference (EPR) for the Operation not found is /services/echo and the WSA Action = null. If this EPR was previously reachable, please contact the server administrator. org.apache.axis2.AxisFault: The endpoint reference (EPR) for the Operation not found is /services/echo and the WSA Action = null. If this EPR was previously reachable, please contact the server administrator.",
         "1",
         "3",
         "19",
         "54",
         "24"
        ],
        [
         "51",
         "ERROR",
         "org.apache.axis2.engine.AxisEngine",
         "The endpoint reference (EPR) for the Operation not found is /services/WorkflowCallbackService and the WSA Action = null. If this EPR was previously reachable, please contact the server administrator. org.apache.axis2.AxisFault: The endpoint reference (EPR) for the Operation not found is /services/WorkflowCallbackService and the WSA Action = null. If this EPR was previously reachable, please contact the server administrator.",
         "1",
         "3",
         "19",
         "54",
         "24"
        ],
        [
         "52",
         "ERROR",
         "org.apache.axis2.transport.base.threads.NativeWorkerPool",
         "Uncaught exception java.lang.OutOfMemoryError: Java heap space",
         "11",
         "22",
         "8",
         "40",
         "57"
        ],
        [
         "53",
         "ERROR",
         "org.apache.axis2.transport.base.threads.NativeWorkerPool",
         "Uncaught exception java.lang.OutOfMemoryError: Java heap space",
         "11",
         "22",
         "15",
         "45",
         "39"
        ]
       ],
       "shape": {
        "columns": 8,
        "rows": 921447
       }
      },
      "text/html": [
       "<div>\n",
       "<style scoped>\n",
       "    .dataframe tbody tr th:only-of-type {\n",
       "        vertical-align: middle;\n",
       "    }\n",
       "\n",
       "    .dataframe tbody tr th {\n",
       "        vertical-align: top;\n",
       "    }\n",
       "\n",
       "    .dataframe thead th {\n",
       "        text-align: right;\n",
       "    }\n",
       "</style>\n",
       "<table border=\"1\" class=\"dataframe\">\n",
       "  <thead>\n",
       "    <tr style=\"text-align: right;\">\n",
       "      <th></th>\n",
       "      <th>level</th>\n",
       "      <th>context</th>\n",
       "      <th>message</th>\n",
       "      <th>mes</th>\n",
       "      <th>dia</th>\n",
       "      <th>hora</th>\n",
       "      <th>minuto</th>\n",
       "      <th>segundo</th>\n",
       "    </tr>\n",
       "  </thead>\n",
       "  <tbody>\n",
       "    <tr>\n",
       "      <th>0</th>\n",
       "      <td>ERROR</td>\n",
       "      <td>API_LOGGER._OpenService_</td>\n",
       "      <td>Error while building message. Error while buil...</td>\n",
       "      <td>12</td>\n",
       "      <td>3</td>\n",
       "      <td>19</td>\n",
       "      <td>37</td>\n",
       "      <td>10</td>\n",
       "    </tr>\n",
       "    <tr>\n",
       "      <th>1</th>\n",
       "      <td>ERROR</td>\n",
       "      <td>API_LOGGER._OpenService_</td>\n",
       "      <td>Error while building message. Error while buil...</td>\n",
       "      <td>12</td>\n",
       "      <td>3</td>\n",
       "      <td>19</td>\n",
       "      <td>37</td>\n",
       "      <td>12</td>\n",
       "    </tr>\n",
       "    <tr>\n",
       "      <th>2</th>\n",
       "      <td>ERROR</td>\n",
       "      <td>API_LOGGER._OpenService_</td>\n",
       "      <td>Error while building message. Error while buil...</td>\n",
       "      <td>12</td>\n",
       "      <td>3</td>\n",
       "      <td>20</td>\n",
       "      <td>12</td>\n",
       "      <td>12</td>\n",
       "    </tr>\n",
       "    <tr>\n",
       "      <th>3</th>\n",
       "      <td>ERROR</td>\n",
       "      <td>API_LOGGER._OpenService_</td>\n",
       "      <td>Error while building message. Error while buil...</td>\n",
       "      <td>1</td>\n",
       "      <td>3</td>\n",
       "      <td>19</td>\n",
       "      <td>46</td>\n",
       "      <td>13</td>\n",
       "    </tr>\n",
       "    <tr>\n",
       "      <th>4</th>\n",
       "      <td>ERROR</td>\n",
       "      <td>java.lang.Class</td>\n",
       "      <td>Access Denied. Failed authorization attempt to...</td>\n",
       "      <td>12</td>\n",
       "      <td>2</td>\n",
       "      <td>12</td>\n",
       "      <td>27</td>\n",
       "      <td>22</td>\n",
       "    </tr>\n",
       "    <tr>\n",
       "      <th>...</th>\n",
       "      <td>...</td>\n",
       "      <td>...</td>\n",
       "      <td>...</td>\n",
       "      <td>...</td>\n",
       "      <td>...</td>\n",
       "      <td>...</td>\n",
       "      <td>...</td>\n",
       "      <td>...</td>\n",
       "    </tr>\n",
       "    <tr>\n",
       "      <th>1051828</th>\n",
       "      <td>INFO</td>\n",
       "      <td>qpid.message.broker.listening</td>\n",
       "      <td>[Broker] BRK-1002 : Starting : Listening on TC...</td>\n",
       "      <td>12</td>\n",
       "      <td>4</td>\n",
       "      <td>11</td>\n",
       "      <td>24</td>\n",
       "      <td>48</td>\n",
       "    </tr>\n",
       "    <tr>\n",
       "      <th>1051829</th>\n",
       "      <td>INFO</td>\n",
       "      <td>qpid.message.broker.listening</td>\n",
       "      <td>[Broker] BRK-1002 : Starting : Listening on TC...</td>\n",
       "      <td>12</td>\n",
       "      <td>5</td>\n",
       "      <td>15</td>\n",
       "      <td>36</td>\n",
       "      <td>10</td>\n",
       "    </tr>\n",
       "    <tr>\n",
       "      <th>1051830</th>\n",
       "      <td>INFO</td>\n",
       "      <td>qpid.message.broker.listening</td>\n",
       "      <td>[Broker] BRK-1002 : Starting : Listening on TC...</td>\n",
       "      <td>12</td>\n",
       "      <td>5</td>\n",
       "      <td>15</td>\n",
       "      <td>36</td>\n",
       "      <td>10</td>\n",
       "    </tr>\n",
       "    <tr>\n",
       "      <th>1051831</th>\n",
       "      <td>INFO</td>\n",
       "      <td>qpid.message.broker.listening</td>\n",
       "      <td>[Broker] BRK-1002 : Starting : Listening on TC...</td>\n",
       "      <td>1</td>\n",
       "      <td>6</td>\n",
       "      <td>12</td>\n",
       "      <td>7</td>\n",
       "      <td>40</td>\n",
       "    </tr>\n",
       "    <tr>\n",
       "      <th>1051832</th>\n",
       "      <td>INFO</td>\n",
       "      <td>qpid.message.broker.listening</td>\n",
       "      <td>[Broker] BRK-1002 : Starting : Listening on TC...</td>\n",
       "      <td>1</td>\n",
       "      <td>6</td>\n",
       "      <td>12</td>\n",
       "      <td>7</td>\n",
       "      <td>40</td>\n",
       "    </tr>\n",
       "  </tbody>\n",
       "</table>\n",
       "<p>921447 rows × 8 columns</p>\n",
       "</div>"
      ],
      "text/plain": [
       "         level                        context  \\\n",
       "0        ERROR       API_LOGGER._OpenService_   \n",
       "1        ERROR       API_LOGGER._OpenService_   \n",
       "2        ERROR       API_LOGGER._OpenService_   \n",
       "3        ERROR       API_LOGGER._OpenService_   \n",
       "4        ERROR                java.lang.Class   \n",
       "...        ...                            ...   \n",
       "1051828   INFO  qpid.message.broker.listening   \n",
       "1051829   INFO  qpid.message.broker.listening   \n",
       "1051830   INFO  qpid.message.broker.listening   \n",
       "1051831   INFO  qpid.message.broker.listening   \n",
       "1051832   INFO  qpid.message.broker.listening   \n",
       "\n",
       "                                                   message  mes  dia  hora  \\\n",
       "0        Error while building message. Error while buil...   12    3    19   \n",
       "1        Error while building message. Error while buil...   12    3    19   \n",
       "2        Error while building message. Error while buil...   12    3    20   \n",
       "3        Error while building message. Error while buil...    1    3    19   \n",
       "4        Access Denied. Failed authorization attempt to...   12    2    12   \n",
       "...                                                    ...  ...  ...   ...   \n",
       "1051828  [Broker] BRK-1002 : Starting : Listening on TC...   12    4    11   \n",
       "1051829  [Broker] BRK-1002 : Starting : Listening on TC...   12    5    15   \n",
       "1051830  [Broker] BRK-1002 : Starting : Listening on TC...   12    5    15   \n",
       "1051831  [Broker] BRK-1002 : Starting : Listening on TC...    1    6    12   \n",
       "1051832  [Broker] BRK-1002 : Starting : Listening on TC...    1    6    12   \n",
       "\n",
       "         minuto  segundo  \n",
       "0            37       10  \n",
       "1            37       12  \n",
       "2            12       12  \n",
       "3            46       13  \n",
       "4            27       22  \n",
       "...         ...      ...  \n",
       "1051828      24       48  \n",
       "1051829      36       10  \n",
       "1051830      36       10  \n",
       "1051831       7       40  \n",
       "1051832       7       40  \n",
       "\n",
       "[921447 rows x 8 columns]"
      ]
     },
     "execution_count": 62,
     "metadata": {},
     "output_type": "execute_result"
    }
   ],
   "source": [
    "data"
   ]
  },
  {
   "cell_type": "code",
   "execution_count": 63,
   "id": "b7548b36",
   "metadata": {},
   "outputs": [],
   "source": [
    "# data.drop(columns=['context',\"level\"], inplace=True)"
   ]
  },
  {
   "cell_type": "code",
   "execution_count": 64,
   "id": "dd926c1a",
   "metadata": {},
   "outputs": [],
   "source": [
    "# data.to_csv(\"../../data/structured/Dataprepared.csv\", index=False)"
   ]
  }
 ],
 "metadata": {
  "kernelspec": {
   "display_name": "env",
   "language": "python",
   "name": "python3"
  },
  "language_info": {
   "codemirror_mode": {
    "name": "ipython",
    "version": 3
   },
   "file_extension": ".py",
   "mimetype": "text/x-python",
   "name": "python",
   "nbconvert_exporter": "python",
   "pygments_lexer": "ipython3",
   "version": "3.12.9"
  }
 },
 "nbformat": 4,
 "nbformat_minor": 5
}
