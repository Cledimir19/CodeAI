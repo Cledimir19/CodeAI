{
 "cells": [
  {
   "cell_type": "code",
   "execution_count": 16,
   "id": "08ef46bf",
   "metadata": {},
   "outputs": [],
   "source": [
    "import pandas as pd\n",
    "from rich import print\n",
    "import numpy as np"
   ]
  },
  {
   "cell_type": "code",
   "execution_count": 17,
   "id": "6e1d329a",
   "metadata": {},
   "outputs": [],
   "source": [
    "data = pd.read_csv('../../data/structured/carbon.csv')"
   ]
  },
  {
   "cell_type": "code",
   "execution_count": 18,
   "id": "50005308",
   "metadata": {},
   "outputs": [],
   "source": [
    "data.drop(columns=['TID', 'logger'],inplace=True)\n"
   ]
  },
  {
   "cell_type": "code",
   "execution_count": 19,
   "id": "16fd0260",
   "metadata": {},
   "outputs": [],
   "source": [
    "def organizar_por_timestamp_context(df, col_timestamp='timestamp', col_context='context'):\n",
    "    \"\"\"\n",
    "    Ordena o DataFrame pelo timestamp crescente e depois pelo context.\n",
    "    \n",
    "    Parâmetros:\n",
    "        df: pandas.DataFrame\n",
    "        col_timestamp: nome da coluna de timestamp\n",
    "        col_context: nome da coluna de contexto\n",
    "    Retorna:\n",
    "        DataFrame ordenado\n",
    "    \"\"\"\n",
    "    # Garantir que a coluna de timestamp é datetime\n",
    "    df[col_timestamp] = pd.to_datetime(df[col_timestamp])\n",
    "    # Ordenar pelos dois campos\n",
    "    df_ordenado = df.sort_values(by=[col_context,col_timestamp], ascending=[True, True]).reset_index(drop=True)\n",
    "    return df_ordenado\n",
    "\n",
    "data = organizar_por_timestamp_context(data)\n"
   ]
  },
  {
   "cell_type": "code",
   "execution_count": 20,
   "id": "febfad7d",
   "metadata": {},
   "outputs": [
    {
     "data": {
      "text/html": [
       "<pre style=\"white-space:pre;overflow-x:auto;line-height:normal;font-family:Menlo,'DejaVu Sans Mono',consolas,'Courier New',monospace\"><span style=\"color: #008080; text-decoration-color: #008080; font-weight: bold\">0</span>\n",
       "</pre>\n"
      ],
      "text/plain": [
       "\u001b[1;36m0\u001b[0m\n"
      ]
     },
     "metadata": {},
     "output_type": "display_data"
    },
    {
     "data": {
      "text/plain": [
       "(1015234, 4)"
      ]
     },
     "execution_count": 20,
     "metadata": {},
     "output_type": "execute_result"
    }
   ],
   "source": [
    "data.drop_duplicates(inplace=True)\n",
    "data.reset_index(drop=True, inplace=True)\n",
    "print(data.duplicated().sum())\n",
    "data.shape"
   ]
  },
  {
   "cell_type": "code",
   "execution_count": 21,
   "id": "c324ed29",
   "metadata": {},
   "outputs": [],
   "source": [
    "# data['timestamp'] = pd.to_datetime(data['timestamp'])\n",
    "# # data['mes'] = data['timestamp'].dt.month\n",
    "# # data['dia'] = data['timestamp'].dt.day\n",
    "data['hora'] = data['timestamp'].dt.hour\n",
    "data['minuto'] = data['timestamp'].dt.minute\n",
    "data['segundo'] = data['timestamp'].dt.second\n",
    "data.drop(columns=['timestamp'], inplace=True)\n",
    "data.drop_duplicates(inplace=True)\n",
    "data.reset_index(drop=True, inplace=True)\n"
   ]
  },
  {
   "cell_type": "code",
   "execution_count": 22,
   "id": "ffcc75b0",
   "metadata": {},
   "outputs": [
    {
     "data": {
      "text/html": [
       "<pre style=\"white-space:pre;overflow-x:auto;line-height:normal;font-family:Menlo,'DejaVu Sans Mono',consolas,'Courier New',monospace\"><span style=\"font-weight: bold\">(</span><span style=\"color: #008080; text-decoration-color: #008080; font-weight: bold\">614407</span>, <span style=\"color: #008080; text-decoration-color: #008080; font-weight: bold\">6</span><span style=\"font-weight: bold\">)</span>\n",
       "</pre>\n"
      ],
      "text/plain": [
       "\u001b[1m(\u001b[0m\u001b[1;36m614407\u001b[0m, \u001b[1;36m6\u001b[0m\u001b[1m)\u001b[0m\n"
      ]
     },
     "metadata": {},
     "output_type": "display_data"
    },
    {
     "data": {
      "application/vnd.microsoft.datawrangler.viewer.v0+json": {
       "columns": [
        {
         "name": "index",
         "rawType": "int64",
         "type": "integer"
        },
        {
         "name": "level",
         "rawType": "object",
         "type": "string"
        },
        {
         "name": "context",
         "rawType": "object",
         "type": "string"
        },
        {
         "name": "message",
         "rawType": "object",
         "type": "string"
        },
        {
         "name": "hora",
         "rawType": "int32",
         "type": "integer"
        },
        {
         "name": "minuto",
         "rawType": "int32",
         "type": "integer"
        },
        {
         "name": "segundo",
         "rawType": "int32",
         "type": "integer"
        }
       ],
       "ref": "308d28c5-9305-422d-8dd5-30cd66c32496",
       "rows": [
        [
         "0",
         "ERROR",
         "API_LOGGER._OpenService_",
         "Error while building message. Error while building Passthrough stream org.apache.axis2.AxisFault: Error while building Passthrough stream",
         "19",
         "37",
         "10"
        ],
        [
         "1",
         "ERROR",
         "API_LOGGER._OpenService_",
         "Error while building message. Error while building Passthrough stream org.apache.axis2.AxisFault: Error while building Passthrough stream",
         "19",
         "37",
         "12"
        ],
        [
         "2",
         "ERROR",
         "API_LOGGER._OpenService_",
         "Error while building message. Error while building Passthrough stream org.apache.axis2.AxisFault: Error while building Passthrough stream",
         "20",
         "12",
         "12"
        ],
        [
         "3",
         "ERROR",
         "API_LOGGER._OpenService_",
         "Error while building message. Error while building Passthrough stream org.apache.axis2.AxisFault: Error while building Passthrough stream",
         "19",
         "46",
         "13"
        ],
        [
         "4",
         "ERROR",
         "java.lang.Class",
         "Access Denied. Failed authorization attempt to access service 'UserStoreConfigAdminService' operation 'getSecondaryRealmConfigurations' by 'monica.f.borges@nosi.cv'",
         "12",
         "27",
         "22"
        ]
       ],
       "shape": {
        "columns": 6,
        "rows": 5
       }
      },
      "text/html": [
       "<div>\n",
       "<style scoped>\n",
       "    .dataframe tbody tr th:only-of-type {\n",
       "        vertical-align: middle;\n",
       "    }\n",
       "\n",
       "    .dataframe tbody tr th {\n",
       "        vertical-align: top;\n",
       "    }\n",
       "\n",
       "    .dataframe thead th {\n",
       "        text-align: right;\n",
       "    }\n",
       "</style>\n",
       "<table border=\"1\" class=\"dataframe\">\n",
       "  <thead>\n",
       "    <tr style=\"text-align: right;\">\n",
       "      <th></th>\n",
       "      <th>level</th>\n",
       "      <th>context</th>\n",
       "      <th>message</th>\n",
       "      <th>hora</th>\n",
       "      <th>minuto</th>\n",
       "      <th>segundo</th>\n",
       "    </tr>\n",
       "  </thead>\n",
       "  <tbody>\n",
       "    <tr>\n",
       "      <th>0</th>\n",
       "      <td>ERROR</td>\n",
       "      <td>API_LOGGER._OpenService_</td>\n",
       "      <td>Error while building message. Error while buil...</td>\n",
       "      <td>19</td>\n",
       "      <td>37</td>\n",
       "      <td>10</td>\n",
       "    </tr>\n",
       "    <tr>\n",
       "      <th>1</th>\n",
       "      <td>ERROR</td>\n",
       "      <td>API_LOGGER._OpenService_</td>\n",
       "      <td>Error while building message. Error while buil...</td>\n",
       "      <td>19</td>\n",
       "      <td>37</td>\n",
       "      <td>12</td>\n",
       "    </tr>\n",
       "    <tr>\n",
       "      <th>2</th>\n",
       "      <td>ERROR</td>\n",
       "      <td>API_LOGGER._OpenService_</td>\n",
       "      <td>Error while building message. Error while buil...</td>\n",
       "      <td>20</td>\n",
       "      <td>12</td>\n",
       "      <td>12</td>\n",
       "    </tr>\n",
       "    <tr>\n",
       "      <th>3</th>\n",
       "      <td>ERROR</td>\n",
       "      <td>API_LOGGER._OpenService_</td>\n",
       "      <td>Error while building message. Error while buil...</td>\n",
       "      <td>19</td>\n",
       "      <td>46</td>\n",
       "      <td>13</td>\n",
       "    </tr>\n",
       "    <tr>\n",
       "      <th>4</th>\n",
       "      <td>ERROR</td>\n",
       "      <td>java.lang.Class</td>\n",
       "      <td>Access Denied. Failed authorization attempt to...</td>\n",
       "      <td>12</td>\n",
       "      <td>27</td>\n",
       "      <td>22</td>\n",
       "    </tr>\n",
       "  </tbody>\n",
       "</table>\n",
       "</div>"
      ],
      "text/plain": [
       "   level                   context  \\\n",
       "0  ERROR  API_LOGGER._OpenService_   \n",
       "1  ERROR  API_LOGGER._OpenService_   \n",
       "2  ERROR  API_LOGGER._OpenService_   \n",
       "3  ERROR  API_LOGGER._OpenService_   \n",
       "4  ERROR           java.lang.Class   \n",
       "\n",
       "                                             message  hora  minuto  segundo  \n",
       "0  Error while building message. Error while buil...    19      37       10  \n",
       "1  Error while building message. Error while buil...    19      37       12  \n",
       "2  Error while building message. Error while buil...    20      12       12  \n",
       "3  Error while building message. Error while buil...    19      46       13  \n",
       "4  Access Denied. Failed authorization attempt to...    12      27       22  "
      ]
     },
     "execution_count": 22,
     "metadata": {},
     "output_type": "execute_result"
    }
   ],
   "source": [
    "print(data.shape)\n",
    "data.head()"
   ]
  },
  {
   "cell_type": "code",
   "execution_count": 23,
   "id": "875a13ae",
   "metadata": {},
   "outputs": [
    {
     "data": {
      "text/html": [
       "<pre style=\"white-space:pre;overflow-x:auto;line-height:normal;font-family:Menlo,'DejaVu Sans Mono',consolas,'Courier New',monospace\"><span style=\"color: #008080; text-decoration-color: #008080; font-weight: bold\">0</span>\n",
       "</pre>\n"
      ],
      "text/plain": [
       "\u001b[1;36m0\u001b[0m\n"
      ]
     },
     "metadata": {},
     "output_type": "display_data"
    }
   ],
   "source": [
    "data.drop_duplicates(inplace=True)\n",
    "data.reset_index(drop=True, inplace=True)\n",
    "print(data.duplicated().sum())"
   ]
  },
  {
   "cell_type": "code",
   "execution_count": 24,
   "id": "acf56a5b",
   "metadata": {},
   "outputs": [],
   "source": [
    "data.to_csv('../../data/structured/all_data.csv', index=False)"
   ]
  },
  {
   "cell_type": "code",
   "execution_count": 25,
   "id": "6c7d8d25",
   "metadata": {},
   "outputs": [],
   "source": [
    "data_filtrada = data[(data['hora'] >= 8) & (data['hora'] <= 17)].reset_index(drop=True)"
   ]
  },
  {
   "cell_type": "code",
   "execution_count": 28,
   "id": "e0281b61",
   "metadata": {},
   "outputs": [
    {
     "data": {
      "application/vnd.microsoft.datawrangler.viewer.v0+json": {
       "columns": [
        {
         "name": "index",
         "rawType": "int64",
         "type": "integer"
        },
        {
         "name": "level",
         "rawType": "object",
         "type": "string"
        },
        {
         "name": "context",
         "rawType": "object",
         "type": "string"
        },
        {
         "name": "message",
         "rawType": "object",
         "type": "string"
        },
        {
         "name": "hora",
         "rawType": "int32",
         "type": "integer"
        },
        {
         "name": "minuto",
         "rawType": "int32",
         "type": "integer"
        },
        {
         "name": "segundo",
         "rawType": "int32",
         "type": "integer"
        }
       ],
       "ref": "01b0d2ee-39d3-4ad0-b45d-3670f3b2dbe3",
       "rows": [
        [
         "0",
         "ERROR",
         "java.lang.Class",
         "Access Denied. Failed authorization attempt to access service 'UserStoreConfigAdminService' operation 'getSecondaryRealmConfigurations' by 'monica.f.borges@nosi.cv'",
         "12",
         "27",
         "22"
        ],
        [
         "1",
         "ERROR",
         "java.lang.Class",
         "Access Denied. Failed authorization attempt to access service 'UserStoreCountService' operation 'getCountEnabledUserStores' by 'monica.f.borges@nosi.cv'",
         "12",
         "27",
         "32"
        ],
        [
         "2",
         "ERROR",
         "java.lang.Class",
         "Access Denied. Failed authorization attempt to access service 'UserStoreCountService' operation 'getCountEnabledUserStores' by 'monica.f.borges@nosi.cv'",
         "12",
         "30",
         "12"
        ],
        [
         "3",
         "ERROR",
         "java.lang.Class",
         "Access Denied. Failed authorization attempt to access service 'UserStoreConfigAdminService' operation 'getSecondaryRealmConfigurations' by 'monica.f.borges@nosi.cv'",
         "12",
         "30",
         "15"
        ],
        [
         "4",
         "WARN",
         "org.apache.axis2.description.java2wsdl.DefaultSchemaGenerator",
         "We don't support method overloading. Ignoring [generateUpdatedAPIFromSwagger]",
         "15",
         "50",
         "32"
        ]
       ],
       "shape": {
        "columns": 6,
        "rows": 5
       }
      },
      "text/html": [
       "<div>\n",
       "<style scoped>\n",
       "    .dataframe tbody tr th:only-of-type {\n",
       "        vertical-align: middle;\n",
       "    }\n",
       "\n",
       "    .dataframe tbody tr th {\n",
       "        vertical-align: top;\n",
       "    }\n",
       "\n",
       "    .dataframe thead th {\n",
       "        text-align: right;\n",
       "    }\n",
       "</style>\n",
       "<table border=\"1\" class=\"dataframe\">\n",
       "  <thead>\n",
       "    <tr style=\"text-align: right;\">\n",
       "      <th></th>\n",
       "      <th>level</th>\n",
       "      <th>context</th>\n",
       "      <th>message</th>\n",
       "      <th>hora</th>\n",
       "      <th>minuto</th>\n",
       "      <th>segundo</th>\n",
       "    </tr>\n",
       "  </thead>\n",
       "  <tbody>\n",
       "    <tr>\n",
       "      <th>0</th>\n",
       "      <td>ERROR</td>\n",
       "      <td>java.lang.Class</td>\n",
       "      <td>Access Denied. Failed authorization attempt to...</td>\n",
       "      <td>12</td>\n",
       "      <td>27</td>\n",
       "      <td>22</td>\n",
       "    </tr>\n",
       "    <tr>\n",
       "      <th>1</th>\n",
       "      <td>ERROR</td>\n",
       "      <td>java.lang.Class</td>\n",
       "      <td>Access Denied. Failed authorization attempt to...</td>\n",
       "      <td>12</td>\n",
       "      <td>27</td>\n",
       "      <td>32</td>\n",
       "    </tr>\n",
       "    <tr>\n",
       "      <th>2</th>\n",
       "      <td>ERROR</td>\n",
       "      <td>java.lang.Class</td>\n",
       "      <td>Access Denied. Failed authorization attempt to...</td>\n",
       "      <td>12</td>\n",
       "      <td>30</td>\n",
       "      <td>12</td>\n",
       "    </tr>\n",
       "    <tr>\n",
       "      <th>3</th>\n",
       "      <td>ERROR</td>\n",
       "      <td>java.lang.Class</td>\n",
       "      <td>Access Denied. Failed authorization attempt to...</td>\n",
       "      <td>12</td>\n",
       "      <td>30</td>\n",
       "      <td>15</td>\n",
       "    </tr>\n",
       "    <tr>\n",
       "      <th>4</th>\n",
       "      <td>WARN</td>\n",
       "      <td>org.apache.axis2.description.java2wsdl.Default...</td>\n",
       "      <td>We don't support method overloading. Ignoring ...</td>\n",
       "      <td>15</td>\n",
       "      <td>50</td>\n",
       "      <td>32</td>\n",
       "    </tr>\n",
       "  </tbody>\n",
       "</table>\n",
       "</div>"
      ],
      "text/plain": [
       "   level                                            context  \\\n",
       "0  ERROR                                    java.lang.Class   \n",
       "1  ERROR                                    java.lang.Class   \n",
       "2  ERROR                                    java.lang.Class   \n",
       "3  ERROR                                    java.lang.Class   \n",
       "4   WARN  org.apache.axis2.description.java2wsdl.Default...   \n",
       "\n",
       "                                             message  hora  minuto  segundo  \n",
       "0  Access Denied. Failed authorization attempt to...    12      27       22  \n",
       "1  Access Denied. Failed authorization attempt to...    12      27       32  \n",
       "2  Access Denied. Failed authorization attempt to...    12      30       12  \n",
       "3  Access Denied. Failed authorization attempt to...    12      30       15  \n",
       "4  We don't support method overloading. Ignoring ...    15      50       32  "
      ]
     },
     "execution_count": 28,
     "metadata": {},
     "output_type": "execute_result"
    }
   ],
   "source": [
    "data_filtrada = data[(data['hora'] >= 8) & (data['hora'] <= 17)].reset_index(drop=True)\n",
    "data_filtrada.head()"
   ]
  },
  {
   "cell_type": "code",
   "execution_count": 29,
   "id": "41799f85",
   "metadata": {},
   "outputs": [],
   "source": [
    "data_filtrada.sort_values(by=['hora', 'minuto', 'segundo'], inplace=True)"
   ]
  },
  {
   "cell_type": "code",
   "execution_count": 30,
   "id": "21f9539b",
   "metadata": {},
   "outputs": [
    {
     "data": {
      "application/vnd.microsoft.datawrangler.viewer.v0+json": {
       "columns": [
        {
         "name": "index",
         "rawType": "int64",
         "type": "integer"
        },
        {
         "name": "level",
         "rawType": "object",
         "type": "string"
        },
        {
         "name": "context",
         "rawType": "object",
         "type": "string"
        },
        {
         "name": "message",
         "rawType": "object",
         "type": "string"
        },
        {
         "name": "hora",
         "rawType": "int32",
         "type": "integer"
        },
        {
         "name": "minuto",
         "rawType": "int32",
         "type": "integer"
        },
        {
         "name": "segundo",
         "rawType": "int32",
         "type": "integer"
        }
       ],
       "ref": "4d46f988-5ebc-4e32-a8d4-c2b07a0d6914",
       "rows": [
        [
         "129030",
         "INFO",
         "org.apache.synapse.mediators.builtin.LogMediator",
         "STATUS = Message dispatched to the main sequence. Invalid URL., RESOURCE = /, HEALTH CHECK URL = /",
         "8",
         "0",
         "0"
        ],
        [
         "114034",
         "INFO",
         "org.apache.synapse.mediators.builtin.LogMediator",
         "STATUS = Message dispatched to the main sequence. Invalid URL., RESOURCE = /, HEALTH CHECK URL = /",
         "8",
         "0",
         "1"
        ],
        [
         "190430",
         "INFO",
         "org.wso2.carbon.databridge.core.DataBridge",
         "user adminsuper@nosi.cv connected",
         "8",
         "0",
         "1"
        ],
        [
         "282407",
         "INFO",
         "org.wso2.carbon.user.core.ldap.ReadWriteLDAPUserStoreManager",
         "LDAP connection created successfully in read-write mode",
         "8",
         "0",
         "1"
        ],
        [
         "112368",
         "INFO",
         "org.apache.synapse.mediators.builtin.LogMediator",
         "STATUS = Message dispatched to the main sequence. Invalid URL., RESOURCE = /, HEALTH CHECK URL = /",
         "8",
         "0",
         "2"
        ]
       ],
       "shape": {
        "columns": 6,
        "rows": 5
       }
      },
      "text/html": [
       "<div>\n",
       "<style scoped>\n",
       "    .dataframe tbody tr th:only-of-type {\n",
       "        vertical-align: middle;\n",
       "    }\n",
       "\n",
       "    .dataframe tbody tr th {\n",
       "        vertical-align: top;\n",
       "    }\n",
       "\n",
       "    .dataframe thead th {\n",
       "        text-align: right;\n",
       "    }\n",
       "</style>\n",
       "<table border=\"1\" class=\"dataframe\">\n",
       "  <thead>\n",
       "    <tr style=\"text-align: right;\">\n",
       "      <th></th>\n",
       "      <th>level</th>\n",
       "      <th>context</th>\n",
       "      <th>message</th>\n",
       "      <th>hora</th>\n",
       "      <th>minuto</th>\n",
       "      <th>segundo</th>\n",
       "    </tr>\n",
       "  </thead>\n",
       "  <tbody>\n",
       "    <tr>\n",
       "      <th>129030</th>\n",
       "      <td>INFO</td>\n",
       "      <td>org.apache.synapse.mediators.builtin.LogMediator</td>\n",
       "      <td>STATUS = Message dispatched to the main sequen...</td>\n",
       "      <td>8</td>\n",
       "      <td>0</td>\n",
       "      <td>0</td>\n",
       "    </tr>\n",
       "    <tr>\n",
       "      <th>114034</th>\n",
       "      <td>INFO</td>\n",
       "      <td>org.apache.synapse.mediators.builtin.LogMediator</td>\n",
       "      <td>STATUS = Message dispatched to the main sequen...</td>\n",
       "      <td>8</td>\n",
       "      <td>0</td>\n",
       "      <td>1</td>\n",
       "    </tr>\n",
       "    <tr>\n",
       "      <th>190430</th>\n",
       "      <td>INFO</td>\n",
       "      <td>org.wso2.carbon.databridge.core.DataBridge</td>\n",
       "      <td>user adminsuper@nosi.cv connected</td>\n",
       "      <td>8</td>\n",
       "      <td>0</td>\n",
       "      <td>1</td>\n",
       "    </tr>\n",
       "    <tr>\n",
       "      <th>282407</th>\n",
       "      <td>INFO</td>\n",
       "      <td>org.wso2.carbon.user.core.ldap.ReadWriteLDAPUs...</td>\n",
       "      <td>LDAP connection created successfully in read-w...</td>\n",
       "      <td>8</td>\n",
       "      <td>0</td>\n",
       "      <td>1</td>\n",
       "    </tr>\n",
       "    <tr>\n",
       "      <th>112368</th>\n",
       "      <td>INFO</td>\n",
       "      <td>org.apache.synapse.mediators.builtin.LogMediator</td>\n",
       "      <td>STATUS = Message dispatched to the main sequen...</td>\n",
       "      <td>8</td>\n",
       "      <td>0</td>\n",
       "      <td>2</td>\n",
       "    </tr>\n",
       "  </tbody>\n",
       "</table>\n",
       "</div>"
      ],
      "text/plain": [
       "       level                                            context  \\\n",
       "129030  INFO   org.apache.synapse.mediators.builtin.LogMediator   \n",
       "114034  INFO   org.apache.synapse.mediators.builtin.LogMediator   \n",
       "190430  INFO         org.wso2.carbon.databridge.core.DataBridge   \n",
       "282407  INFO  org.wso2.carbon.user.core.ldap.ReadWriteLDAPUs...   \n",
       "112368  INFO   org.apache.synapse.mediators.builtin.LogMediator   \n",
       "\n",
       "                                                  message  hora  minuto  \\\n",
       "129030  STATUS = Message dispatched to the main sequen...     8       0   \n",
       "114034  STATUS = Message dispatched to the main sequen...     8       0   \n",
       "190430                  user adminsuper@nosi.cv connected     8       0   \n",
       "282407  LDAP connection created successfully in read-w...     8       0   \n",
       "112368  STATUS = Message dispatched to the main sequen...     8       0   \n",
       "\n",
       "        segundo  \n",
       "129030        0  \n",
       "114034        1  \n",
       "190430        1  \n",
       "282407        1  \n",
       "112368        2  "
      ]
     },
     "execution_count": 30,
     "metadata": {},
     "output_type": "execute_result"
    }
   ],
   "source": [
    "data_filtrada.head()"
   ]
  },
  {
   "cell_type": "code",
   "execution_count": 31,
   "id": "632421f7",
   "metadata": {},
   "outputs": [],
   "source": [
    "data_filtrada.to_csv('../../data/structured/dataToSplit.csv', index=False)"
   ]
  }
 ],
 "metadata": {
  "kernelspec": {
   "display_name": "env",
   "language": "python",
   "name": "python3"
  },
  "language_info": {
   "codemirror_mode": {
    "name": "ipython",
    "version": 3
   },
   "file_extension": ".py",
   "mimetype": "text/x-python",
   "name": "python",
   "nbconvert_exporter": "python",
   "pygments_lexer": "ipython3",
   "version": "3.12.9"
  }
 },
 "nbformat": 4,
 "nbformat_minor": 5
}
