{
 "cells": [
  {
   "cell_type": "code",
   "execution_count": 16,
   "id": "5ab06438",
   "metadata": {},
   "outputs": [],
   "source": [
    "import pandas as pd\n",
    "from sklearn.model_selection import train_test_split\n",
    "from rich import print"
   ]
  },
  {
   "cell_type": "code",
   "execution_count": 17,
   "id": "593f44b4",
   "metadata": {},
   "outputs": [],
   "source": [
    "data = pd.read_csv('../../data/structured/dataToSplit.csv')\n"
   ]
  },
  {
   "cell_type": "code",
   "execution_count": 18,
   "id": "e8ee1b7d",
   "metadata": {},
   "outputs": [],
   "source": [
    "info = data[data['level'] == 'INFO']\n",
    "data = data[data['level'] != 'INFO']"
   ]
  },
  {
   "cell_type": "code",
   "execution_count": 19,
   "id": "17198ac0",
   "metadata": {},
   "outputs": [
    {
     "data": {
      "text/html": [
       "<pre style=\"white-space:pre;overflow-x:auto;line-height:normal;font-family:Menlo,'DejaVu Sans Mono',consolas,'Courier New',monospace\">Treino: <span style=\"color: #008080; text-decoration-color: #008080; font-weight: bold\">72405</span>\n",
       "</pre>\n"
      ],
      "text/plain": [
       "Treino: \u001b[1;36m72405\u001b[0m\n"
      ]
     },
     "metadata": {},
     "output_type": "display_data"
    },
    {
     "data": {
      "text/html": [
       "<pre style=\"white-space:pre;overflow-x:auto;line-height:normal;font-family:Menlo,'DejaVu Sans Mono',consolas,'Courier New',monospace\">Teste: <span style=\"color: #008080; text-decoration-color: #008080; font-weight: bold\">31031</span>\n",
       "</pre>\n"
      ],
      "text/plain": [
       "Teste: \u001b[1;36m31031\u001b[0m\n"
      ]
     },
     "metadata": {},
     "output_type": "display_data"
    }
   ],
   "source": [
    "train_data, test_data = train_test_split(data, test_size=0.3, random_state=42)\n",
    "\n",
    "print(f\"Treino: {len(train_data)}\")\n",
    "print(f\"Teste: {len(test_data)}\")"
   ]
  },
  {
   "cell_type": "code",
   "execution_count": 20,
   "id": "fc6fcc12",
   "metadata": {},
   "outputs": [
    {
     "data": {
      "application/vnd.microsoft.datawrangler.viewer.v0+json": {
       "columns": [
        {
         "name": "index",
         "rawType": "int64",
         "type": "integer"
        },
        {
         "name": "level",
         "rawType": "object",
         "type": "string"
        },
        {
         "name": "context",
         "rawType": "object",
         "type": "string"
        },
        {
         "name": "message",
         "rawType": "object",
         "type": "string"
        },
        {
         "name": "hora",
         "rawType": "int64",
         "type": "integer"
        },
        {
         "name": "minuto",
         "rawType": "int64",
         "type": "integer"
        },
        {
         "name": "segundo",
         "rawType": "int64",
         "type": "integer"
        }
       ],
       "ref": "e034173a-1494-4169-8b82-93fbba8644de",
       "rows": [
        [
         "0",
         "ERROR",
         "org.apache.synapse.commons.json.JsonUtil",
         "#getNewJsonPayload. Could not determine availability of the JSON input stream. MessageID: urn:uuid:1c4360bf-3465-4457-a819-eaca287cb4c6. Error>>> Stream closed",
         "15",
         "12",
         "25"
        ],
        [
         "1",
         "ERROR",
         "org.apache.synapse.commons.json.JsonUtil",
         "#getNewJsonPayload. Could not determine availability of the JSON input stream. MessageID: urn:uuid:30fdd900-1a25-4e06-adee-c3721095c2f2. Error>>> Stream closed",
         "12",
         "23",
         "30"
        ],
        [
         "2",
         "ERROR",
         "org.apache.synapse.commons.json.JsonUtil",
         "#getNewJsonPayload. Could not determine availability of the JSON input stream. MessageID: urn:uuid:8f1ec1fa-9e4e-420c-be8c-3ba3c81325d7. Error>>> Stream closed",
         "16",
         "21",
         "48"
        ],
        [
         "3",
         "ERROR",
         "org.apache.synapse.commons.json.JsonUtil",
         "#getNewJsonPayload. Could not determine availability of the JSON input stream. MessageID: urn:uuid:f92c038f-ec78-45aa-8db8-55fce5f99ec6. Error>>> Stream closed",
         "15",
         "37",
         "34"
        ],
        [
         "4",
         "ERROR",
         "org.apache.synapse.commons.json.JsonUtil",
         "#getNewJsonPayload. Could not determine availability of the JSON input stream. MessageID: urn:uuid:8e5f6fa0-61e9-4078-9c64-e49dca379925. Error>>> Stream closed",
         "15",
         "36",
         "19"
        ]
       ],
       "shape": {
        "columns": 6,
        "rows": 5
       }
      },
      "text/html": [
       "<div>\n",
       "<style scoped>\n",
       "    .dataframe tbody tr th:only-of-type {\n",
       "        vertical-align: middle;\n",
       "    }\n",
       "\n",
       "    .dataframe tbody tr th {\n",
       "        vertical-align: top;\n",
       "    }\n",
       "\n",
       "    .dataframe thead th {\n",
       "        text-align: right;\n",
       "    }\n",
       "</style>\n",
       "<table border=\"1\" class=\"dataframe\">\n",
       "  <thead>\n",
       "    <tr style=\"text-align: right;\">\n",
       "      <th></th>\n",
       "      <th>level</th>\n",
       "      <th>context</th>\n",
       "      <th>message</th>\n",
       "      <th>hora</th>\n",
       "      <th>minuto</th>\n",
       "      <th>segundo</th>\n",
       "    </tr>\n",
       "  </thead>\n",
       "  <tbody>\n",
       "    <tr>\n",
       "      <th>0</th>\n",
       "      <td>ERROR</td>\n",
       "      <td>org.apache.synapse.commons.json.JsonUtil</td>\n",
       "      <td>#getNewJsonPayload. Could not determine availa...</td>\n",
       "      <td>15</td>\n",
       "      <td>12</td>\n",
       "      <td>25</td>\n",
       "    </tr>\n",
       "    <tr>\n",
       "      <th>1</th>\n",
       "      <td>ERROR</td>\n",
       "      <td>org.apache.synapse.commons.json.JsonUtil</td>\n",
       "      <td>#getNewJsonPayload. Could not determine availa...</td>\n",
       "      <td>12</td>\n",
       "      <td>23</td>\n",
       "      <td>30</td>\n",
       "    </tr>\n",
       "    <tr>\n",
       "      <th>2</th>\n",
       "      <td>ERROR</td>\n",
       "      <td>org.apache.synapse.commons.json.JsonUtil</td>\n",
       "      <td>#getNewJsonPayload. Could not determine availa...</td>\n",
       "      <td>16</td>\n",
       "      <td>21</td>\n",
       "      <td>48</td>\n",
       "    </tr>\n",
       "    <tr>\n",
       "      <th>3</th>\n",
       "      <td>ERROR</td>\n",
       "      <td>org.apache.synapse.commons.json.JsonUtil</td>\n",
       "      <td>#getNewJsonPayload. Could not determine availa...</td>\n",
       "      <td>15</td>\n",
       "      <td>37</td>\n",
       "      <td>34</td>\n",
       "    </tr>\n",
       "    <tr>\n",
       "      <th>4</th>\n",
       "      <td>ERROR</td>\n",
       "      <td>org.apache.synapse.commons.json.JsonUtil</td>\n",
       "      <td>#getNewJsonPayload. Could not determine availa...</td>\n",
       "      <td>15</td>\n",
       "      <td>36</td>\n",
       "      <td>19</td>\n",
       "    </tr>\n",
       "  </tbody>\n",
       "</table>\n",
       "</div>"
      ],
      "text/plain": [
       "   level                                   context  \\\n",
       "0  ERROR  org.apache.synapse.commons.json.JsonUtil   \n",
       "1  ERROR  org.apache.synapse.commons.json.JsonUtil   \n",
       "2  ERROR  org.apache.synapse.commons.json.JsonUtil   \n",
       "3  ERROR  org.apache.synapse.commons.json.JsonUtil   \n",
       "4  ERROR  org.apache.synapse.commons.json.JsonUtil   \n",
       "\n",
       "                                             message  hora  minuto  segundo  \n",
       "0  #getNewJsonPayload. Could not determine availa...    15      12       25  \n",
       "1  #getNewJsonPayload. Could not determine availa...    12      23       30  \n",
       "2  #getNewJsonPayload. Could not determine availa...    16      21       48  \n",
       "3  #getNewJsonPayload. Could not determine availa...    15      37       34  \n",
       "4  #getNewJsonPayload. Could not determine availa...    15      36       19  "
      ]
     },
     "execution_count": 20,
     "metadata": {},
     "output_type": "execute_result"
    }
   ],
   "source": [
    "train_data = pd.concat([train_data, info], ignore_index=True)\n",
    "train_data.head()"
   ]
  },
  {
   "cell_type": "code",
   "execution_count": 21,
   "id": "0ee51772",
   "metadata": {},
   "outputs": [],
   "source": [
    "train_data.sort_values(by=['hora', 'minuto', 'segundo',\"context\"], inplace=True)"
   ]
  },
  {
   "cell_type": "code",
   "execution_count": 22,
   "id": "f4d4b03d",
   "metadata": {},
   "outputs": [
    {
     "data": {
      "application/vnd.microsoft.datawrangler.viewer.v0+json": {
       "columns": [
        {
         "name": "index",
         "rawType": "int64",
         "type": "integer"
        },
        {
         "name": "level",
         "rawType": "object",
         "type": "string"
        },
        {
         "name": "context",
         "rawType": "object",
         "type": "string"
        },
        {
         "name": "message",
         "rawType": "object",
         "type": "string"
        },
        {
         "name": "hora",
         "rawType": "int64",
         "type": "integer"
        },
        {
         "name": "minuto",
         "rawType": "int64",
         "type": "integer"
        },
        {
         "name": "segundo",
         "rawType": "int64",
         "type": "integer"
        }
       ],
       "ref": "81ea103d-15b0-4343-afe4-75dc5267ccee",
       "rows": [
        [
         "72405",
         "INFO",
         "org.apache.synapse.mediators.builtin.LogMediator",
         "STATUS = Message dispatched to the main sequence. Invalid URL., RESOURCE = /, HEALTH CHECK URL = /",
         "8",
         "0",
         "0"
        ],
        [
         "72406",
         "INFO",
         "org.apache.synapse.mediators.builtin.LogMediator",
         "STATUS = Message dispatched to the main sequence. Invalid URL., RESOURCE = /, HEALTH CHECK URL = /",
         "8",
         "0",
         "1"
        ],
        [
         "72407",
         "INFO",
         "org.wso2.carbon.databridge.core.DataBridge",
         "user adminsuper@nosi.cv connected",
         "8",
         "0",
         "1"
        ],
        [
         "72408",
         "INFO",
         "org.wso2.carbon.user.core.ldap.ReadWriteLDAPUserStoreManager",
         "LDAP connection created successfully in read-write mode",
         "8",
         "0",
         "1"
        ],
        [
         "72409",
         "INFO",
         "org.apache.synapse.mediators.builtin.LogMediator",
         "STATUS = Message dispatched to the main sequence. Invalid URL., RESOURCE = /, HEALTH CHECK URL = /",
         "8",
         "0",
         "2"
        ],
        [
         "72410",
         "INFO",
         "org.wso2.carbon.databridge.core.DataBridge",
         "user adminsuper@nosi.cv@carbon.super connected",
         "8",
         "0",
         "2"
        ],
        [
         "72411",
         "INFO",
         "org.apache.synapse.mediators.builtin.LogMediator",
         "STATUS = Message dispatched to the main sequence. Invalid URL., RESOURCE = /, HEALTH CHECK URL = /",
         "8",
         "0",
         "3"
        ],
        [
         "72412",
         "INFO",
         "org.wso2.carbon.user.core.ldap.ReadWriteLDAPUserStoreManager",
         "LDAP connection created successfully in read-write mode",
         "8",
         "0",
         "3"
        ],
        [
         "72413",
         "INFO",
         "org.apache.synapse.mediators.builtin.LogMediator",
         "STATUS = Message dispatched to the main sequence. Invalid URL., RESOURCE = /, HEALTH CHECK URL = /",
         "8",
         "0",
         "4"
        ],
        [
         "72414",
         "INFO",
         "org.wso2.carbon.databridge.core.DataBridge",
         "user adminsuper@nosi.cv@carbon.super connected",
         "8",
         "0",
         "5"
        ],
        [
         "72415",
         "INFO",
         "org.apache.synapse.mediators.builtin.LogMediator",
         "STATUS = Message dispatched to the main sequence. Invalid URL., RESOURCE = /, HEALTH CHECK URL = /",
         "8",
         "0",
         "7"
        ],
        [
         "72416",
         "INFO",
         "org.apache.synapse.mediators.builtin.LogMediator",
         "STATUS = Message dispatched to the main sequence. Invalid URL., RESOURCE = /, HEALTH CHECK URL = /",
         "8",
         "0",
         "8"
        ],
        [
         "72417",
         "INFO",
         "org.apache.synapse.mediators.builtin.LogMediator",
         "STATUS = Message dispatched to the main sequence. Invalid URL., RESOURCE = /, HEALTH CHECK URL = /",
         "8",
         "0",
         "9"
        ],
        [
         "72418",
         "INFO",
         "org.apache.synapse.Axis2SynapseController",
         "Initializing Synapse at : Sun Jan 05 08:00:10 CVT 2025",
         "8",
         "0",
         "10"
        ],
        [
         "72419",
         "INFO",
         "org.apache.synapse.SynapseControllerFactory",
         "Using Synapse home : /home/wso2carbon/wso2am-3.2.0/repository/tenants/16",
         "8",
         "0",
         "10"
        ],
        [
         "72420",
         "INFO",
         "org.apache.synapse.SynapseControllerFactory",
         "Using server name : synapse.egov.cv",
         "8",
         "0",
         "10"
        ],
        [
         "72421",
         "INFO",
         "org.apache.synapse.SynapseControllerFactory",
         "The timeout handler will run every : 15s",
         "8",
         "0",
         "10"
        ],
        [
         "72422",
         "INFO",
         "org.apache.synapse.SynapseControllerFactory",
         "Using synapse.xml location : /home/wso2carbon/wso2am-3.2.0/repository/tenants/16/synapse-configs/default",
         "8",
         "0",
         "10"
        ],
        [
         "72423",
         "INFO",
         "org.apache.synapse.config.xml.MultiXMLConfigurationBuilder",
         "Building synapse configuration from the synapse artifact repository at : /home/wso2carbon/wso2am-3.2.0/repository/tenants/16/synapse-configs/default",
         "8",
         "0",
         "10"
        ],
        [
         "72424",
         "INFO",
         "org.apache.synapse.config.xml.XMLConfigurationBuilder",
         "Generating the Synapse configuration model by parsing the XML configuration",
         "8",
         "0",
         "10"
        ],
        [
         "22580",
         "ERROR",
         "org.wso2.carbon.apimgt.impl.factory.KeyManagerHolder",
         "Key Manager Resident Key Manager already initialized in tenant egov.cv",
         "8",
         "0",
         "10"
        ],
        [
         "72425",
         "INFO",
         "org.wso2.carbon.core.multitenancy.TenantAxisConfigurator",
         "Creating tenant AxisConfiguration for tenant: egov.cv[16]",
         "8",
         "0",
         "10"
        ],
        [
         "72426",
         "INFO",
         "org.wso2.carbon.core.services.util.CarbonAuthenticationUtil",
         "'adminsuper@nosi.cv@carbon.super [-1234]' logged in at [2025-01-05 08:00:10,781-0100]",
         "8",
         "0",
         "10"
        ],
        [
         "5372",
         "WARN",
         "org.wso2.carbon.identity.tenant.resource.manager.TenantAwareAxis2ConfigurationContextObserver",
         "Configuration store is disabled. Super tenant configuration will be used for the tenant domain: egov.cv",
         "8",
         "0",
         "10"
        ],
        [
         "72427",
         "INFO",
         "org.wso2.carbon.identity.tenant.resource.manager.TenantAwareAxis2ConfigurationContextObserver",
         "Loading configuration context for tenant domain: egov.cv",
         "8",
         "0",
         "10"
        ],
        [
         "72428",
         "INFO",
         "org.wso2.carbon.identity.user.store.configuration.deployer.UserStoreConfigurationDeployer",
         "User Store Configuration Deployer initiated.",
         "8",
         "0",
         "10"
        ],
        [
         "72429",
         "INFO",
         "org.wso2.carbon.mediation.dependency.mgt.DependencyTracker",
         "Sequence : main was added to the Synapse configuration successfully",
         "8",
         "0",
         "10"
        ],
        [
         "72430",
         "INFO",
         "org.wso2.carbon.mediation.dependency.mgt.DependencyTracker",
         "Sequence : fault was added to the Synapse configuration successfully",
         "8",
         "0",
         "10"
        ],
        [
         "72431",
         "INFO",
         "org.wso2.carbon.mediation.dependency.mgt.DependencyTracker",
         "Local entry : 7f6bfbcc-a776-4160-9c40-82fbd22b3c37 was added to the Synapse configuration successfully",
         "8",
         "0",
         "10"
        ],
        [
         "72432",
         "INFO",
         "org.wso2.carbon.mediation.dependency.mgt.DependencyTracker",
         "Local entry : a98b530d-210b-43e5-b61b-af8edd103002 was added to the Synapse configuration successfully",
         "8",
         "0",
         "10"
        ],
        [
         "72433",
         "INFO",
         "org.wso2.carbon.mediation.dependency.mgt.DependencyTracker",
         "Local entry : e17c6077-3d70-43e1-84b3-3d6535ea6652 was added to the Synapse configuration successfully",
         "8",
         "0",
         "10"
        ],
        [
         "72434",
         "INFO",
         "org.wso2.carbon.mediation.dependency.mgt.DependencyTracker",
         "Local entry : fad2fb9e-a376-4437-bf9b-e4e1cf560627 was added to the Synapse configuration successfully",
         "8",
         "0",
         "10"
        ],
        [
         "72435",
         "INFO",
         "org.wso2.carbon.mediation.dependency.mgt.DependencyTracker",
         "Local entry : e09d7eb3-692c-47ce-9f08-0f225a6ea097 was added to the Synapse configuration successfully",
         "8",
         "0",
         "10"
        ],
        [
         "72436",
         "INFO",
         "org.wso2.carbon.mediation.dependency.mgt.DependencyTracker",
         "Local entry : 3d2d6bcf-a28b-4f95-be80-ff1ba9703527 was added to the Synapse configuration successfully",
         "8",
         "0",
         "10"
        ],
        [
         "72437",
         "INFO",
         "org.wso2.carbon.mediation.dependency.mgt.DependencyTracker",
         "Local entry : 9da3be37-9197-48f2-b88b-b73072fc18dc was added to the Synapse configuration successfully",
         "8",
         "0",
         "10"
        ],
        [
         "72438",
         "INFO",
         "org.wso2.carbon.mediation.dependency.mgt.DependencyTracker",
         "Local entry : e47dbebc-fa72-4383-825d-39ccb592f640 was added to the Synapse configuration successfully",
         "8",
         "0",
         "10"
        ],
        [
         "72439",
         "INFO",
         "org.wso2.carbon.mediation.dependency.mgt.DependencyTracker",
         "Local entry : 17728576-d119-4da4-9643-592013484909 was added to the Synapse configuration successfully",
         "8",
         "0",
         "10"
        ],
        [
         "72440",
         "INFO",
         "org.wso2.carbon.mediation.dependency.mgt.DependencyTracker",
         "Local entry : 39ddf672-f2dc-4221-9f03-d0f625355ab1 was added to the Synapse configuration successfully",
         "8",
         "0",
         "10"
        ],
        [
         "72441",
         "INFO",
         "org.wso2.carbon.mediation.dependency.mgt.DependencyTracker",
         "Local entry : 61178504-bdb9-4ad5-8802-02d5aeccb933 was added to the Synapse configuration successfully",
         "8",
         "0",
         "10"
        ],
        [
         "72442",
         "INFO",
         "org.wso2.carbon.mediation.dependency.mgt.DependencyTracker",
         "Local entry : cb061856-4065-49eb-bd1b-d5b055d4a85a was added to the Synapse configuration successfully",
         "8",
         "0",
         "10"
        ],
        [
         "72443",
         "INFO",
         "org.wso2.carbon.mediation.dependency.mgt.DependencyTracker",
         "Local entry : 9d6a2776-4ec3-480c-9447-7d0120ca6de6 was added to the Synapse configuration successfully",
         "8",
         "0",
         "10"
        ],
        [
         "72444",
         "INFO",
         "org.wso2.carbon.mediation.dependency.mgt.DependencyTracker",
         "Local entry : a19223ce-f1b6-4da5-929f-c776854dc70f was added to the Synapse configuration successfully",
         "8",
         "0",
         "10"
        ],
        [
         "72445",
         "INFO",
         "org.wso2.carbon.mediation.dependency.mgt.DependencyTracker",
         "Local entry : ga-config-key was added to the Synapse configuration successfully",
         "8",
         "0",
         "10"
        ],
        [
         "72446",
         "INFO",
         "org.wso2.carbon.mediation.dependency.mgt.DependencyTracker",
         "Local entry : f0101b67-0806-4643-ae26-fbc3e345d8e8 was added to the Synapse configuration successfully",
         "8",
         "0",
         "10"
        ],
        [
         "72447",
         "INFO",
         "org.wso2.carbon.mediation.dependency.mgt.DependencyTracker",
         "Local entry : 0411bd1f-dd27-48c7-96d2-a9f2982e0af2 was added to the Synapse configuration successfully",
         "8",
         "0",
         "10"
        ],
        [
         "72448",
         "INFO",
         "org.wso2.carbon.mediation.dependency.mgt.DependencyTracker",
         "Local entry : 8b88dec1-11ee-437c-b0da-5faf7becbac4 was added to the Synapse configuration successfully",
         "8",
         "0",
         "10"
        ],
        [
         "72449",
         "INFO",
         "org.wso2.carbon.mediation.dependency.mgt.DependencyTracker",
         "Local entry : 290d362f-39e8-401f-b164-bee62f091990 was added to the Synapse configuration successfully",
         "8",
         "0",
         "10"
        ],
        [
         "72450",
         "INFO",
         "org.wso2.carbon.mediation.dependency.mgt.DependencyTracker",
         "Local entry : 83775d12-04f5-4706-bb5c-f229cc2559fe was added to the Synapse configuration successfully",
         "8",
         "0",
         "10"
        ],
        [
         "72451",
         "INFO",
         "org.wso2.carbon.mediation.dependency.mgt.DependencyTracker",
         "Local entry : 77089545-fe8b-4098-9f26-776ae90d61b5 was added to the Synapse configuration successfully",
         "8",
         "0",
         "10"
        ],
        [
         "72452",
         "INFO",
         "org.wso2.carbon.mediation.dependency.mgt.DependencyTracker",
         "Endpoint : IgotciChavesAtivacao--v1.0.0_APIproductionEndpoint was added to the Synapse configuration successfully",
         "8",
         "0",
         "10"
        ]
       ],
       "shape": {
        "columns": 6,
        "rows": 259734
       }
      },
      "text/html": [
       "<div>\n",
       "<style scoped>\n",
       "    .dataframe tbody tr th:only-of-type {\n",
       "        vertical-align: middle;\n",
       "    }\n",
       "\n",
       "    .dataframe tbody tr th {\n",
       "        vertical-align: top;\n",
       "    }\n",
       "\n",
       "    .dataframe thead th {\n",
       "        text-align: right;\n",
       "    }\n",
       "</style>\n",
       "<table border=\"1\" class=\"dataframe\">\n",
       "  <thead>\n",
       "    <tr style=\"text-align: right;\">\n",
       "      <th></th>\n",
       "      <th>level</th>\n",
       "      <th>context</th>\n",
       "      <th>message</th>\n",
       "      <th>hora</th>\n",
       "      <th>minuto</th>\n",
       "      <th>segundo</th>\n",
       "    </tr>\n",
       "  </thead>\n",
       "  <tbody>\n",
       "    <tr>\n",
       "      <th>72405</th>\n",
       "      <td>INFO</td>\n",
       "      <td>org.apache.synapse.mediators.builtin.LogMediator</td>\n",
       "      <td>STATUS = Message dispatched to the main sequen...</td>\n",
       "      <td>8</td>\n",
       "      <td>0</td>\n",
       "      <td>0</td>\n",
       "    </tr>\n",
       "    <tr>\n",
       "      <th>72406</th>\n",
       "      <td>INFO</td>\n",
       "      <td>org.apache.synapse.mediators.builtin.LogMediator</td>\n",
       "      <td>STATUS = Message dispatched to the main sequen...</td>\n",
       "      <td>8</td>\n",
       "      <td>0</td>\n",
       "      <td>1</td>\n",
       "    </tr>\n",
       "    <tr>\n",
       "      <th>72407</th>\n",
       "      <td>INFO</td>\n",
       "      <td>org.wso2.carbon.databridge.core.DataBridge</td>\n",
       "      <td>user adminsuper@nosi.cv connected</td>\n",
       "      <td>8</td>\n",
       "      <td>0</td>\n",
       "      <td>1</td>\n",
       "    </tr>\n",
       "    <tr>\n",
       "      <th>72408</th>\n",
       "      <td>INFO</td>\n",
       "      <td>org.wso2.carbon.user.core.ldap.ReadWriteLDAPUs...</td>\n",
       "      <td>LDAP connection created successfully in read-w...</td>\n",
       "      <td>8</td>\n",
       "      <td>0</td>\n",
       "      <td>1</td>\n",
       "    </tr>\n",
       "    <tr>\n",
       "      <th>72409</th>\n",
       "      <td>INFO</td>\n",
       "      <td>org.apache.synapse.mediators.builtin.LogMediator</td>\n",
       "      <td>STATUS = Message dispatched to the main sequen...</td>\n",
       "      <td>8</td>\n",
       "      <td>0</td>\n",
       "      <td>2</td>\n",
       "    </tr>\n",
       "    <tr>\n",
       "      <th>...</th>\n",
       "      <td>...</td>\n",
       "      <td>...</td>\n",
       "      <td>...</td>\n",
       "      <td>...</td>\n",
       "      <td>...</td>\n",
       "      <td>...</td>\n",
       "    </tr>\n",
       "    <tr>\n",
       "      <th>56040</th>\n",
       "      <td>ERROR</td>\n",
       "      <td>org.apache.synapse.commons.json.JsonUtil</td>\n",
       "      <td>#getNewJsonPayload. Could not determine availa...</td>\n",
       "      <td>17</td>\n",
       "      <td>59</td>\n",
       "      <td>59</td>\n",
       "    </tr>\n",
       "    <tr>\n",
       "      <th>259732</th>\n",
       "      <td>INFO</td>\n",
       "      <td>org.apache.synapse.mediators.builtin.LogMediator</td>\n",
       "      <td>STATUS = Message dispatched to the main sequen...</td>\n",
       "      <td>17</td>\n",
       "      <td>59</td>\n",
       "      <td>59</td>\n",
       "    </tr>\n",
       "    <tr>\n",
       "      <th>44559</th>\n",
       "      <td>ERROR</td>\n",
       "      <td>org.wso2.carbon.databridge.agent.endpoint.Data...</td>\n",
       "      <td>Error while trying to connect to the endpoint....</td>\n",
       "      <td>17</td>\n",
       "      <td>59</td>\n",
       "      <td>59</td>\n",
       "    </tr>\n",
       "    <tr>\n",
       "      <th>60526</th>\n",
       "      <td>ERROR</td>\n",
       "      <td>org.wso2.carbon.databridge.agent.endpoint.Data...</td>\n",
       "      <td>Error while trying to connect to the endpoint....</td>\n",
       "      <td>17</td>\n",
       "      <td>59</td>\n",
       "      <td>59</td>\n",
       "    </tr>\n",
       "    <tr>\n",
       "      <th>259733</th>\n",
       "      <td>INFO</td>\n",
       "      <td>org.wso2.carbon.databridge.core.DataBridge</td>\n",
       "      <td>user adminsuper@nosi.cv connected</td>\n",
       "      <td>17</td>\n",
       "      <td>59</td>\n",
       "      <td>59</td>\n",
       "    </tr>\n",
       "  </tbody>\n",
       "</table>\n",
       "<p>259734 rows × 6 columns</p>\n",
       "</div>"
      ],
      "text/plain": [
       "        level                                            context  \\\n",
       "72405    INFO   org.apache.synapse.mediators.builtin.LogMediator   \n",
       "72406    INFO   org.apache.synapse.mediators.builtin.LogMediator   \n",
       "72407    INFO         org.wso2.carbon.databridge.core.DataBridge   \n",
       "72408    INFO  org.wso2.carbon.user.core.ldap.ReadWriteLDAPUs...   \n",
       "72409    INFO   org.apache.synapse.mediators.builtin.LogMediator   \n",
       "...       ...                                                ...   \n",
       "56040   ERROR           org.apache.synapse.commons.json.JsonUtil   \n",
       "259732   INFO   org.apache.synapse.mediators.builtin.LogMediator   \n",
       "44559   ERROR  org.wso2.carbon.databridge.agent.endpoint.Data...   \n",
       "60526   ERROR  org.wso2.carbon.databridge.agent.endpoint.Data...   \n",
       "259733   INFO         org.wso2.carbon.databridge.core.DataBridge   \n",
       "\n",
       "                                                  message  hora  minuto  \\\n",
       "72405   STATUS = Message dispatched to the main sequen...     8       0   \n",
       "72406   STATUS = Message dispatched to the main sequen...     8       0   \n",
       "72407                   user adminsuper@nosi.cv connected     8       0   \n",
       "72408   LDAP connection created successfully in read-w...     8       0   \n",
       "72409   STATUS = Message dispatched to the main sequen...     8       0   \n",
       "...                                                   ...   ...     ...   \n",
       "56040   #getNewJsonPayload. Could not determine availa...    17      59   \n",
       "259732  STATUS = Message dispatched to the main sequen...    17      59   \n",
       "44559   Error while trying to connect to the endpoint....    17      59   \n",
       "60526   Error while trying to connect to the endpoint....    17      59   \n",
       "259733                  user adminsuper@nosi.cv connected    17      59   \n",
       "\n",
       "        segundo  \n",
       "72405         0  \n",
       "72406         1  \n",
       "72407         1  \n",
       "72408         1  \n",
       "72409         2  \n",
       "...         ...  \n",
       "56040        59  \n",
       "259732       59  \n",
       "44559        59  \n",
       "60526        59  \n",
       "259733       59  \n",
       "\n",
       "[259734 rows x 6 columns]"
      ]
     },
     "execution_count": 22,
     "metadata": {},
     "output_type": "execute_result"
    }
   ],
   "source": [
    "train_data"
   ]
  },
  {
   "cell_type": "code",
   "execution_count": 14,
   "id": "7471ba63",
   "metadata": {},
   "outputs": [
    {
     "data": {
      "text/plain": [
       "(259734, 6)"
      ]
     },
     "execution_count": 14,
     "metadata": {},
     "output_type": "execute_result"
    }
   ],
   "source": [
    "train_data.shape"
   ]
  },
  {
   "cell_type": "code",
   "execution_count": 23,
   "id": "4a76efbb",
   "metadata": {},
   "outputs": [],
   "source": [
    "train_data.to_csv('../../data/structured/carbon_train.csv', index=False)\n",
    "test_data.to_csv('../../data/test/carbon_test.csv', index=False)"
   ]
  },
  {
   "cell_type": "code",
   "execution_count": null,
   "id": "798f35e7",
   "metadata": {},
   "outputs": [],
   "source": []
  }
 ],
 "metadata": {
  "kernelspec": {
   "display_name": "env",
   "language": "python",
   "name": "python3"
  },
  "language_info": {
   "codemirror_mode": {
    "name": "ipython",
    "version": 3
   },
   "file_extension": ".py",
   "mimetype": "text/x-python",
   "name": "python",
   "nbconvert_exporter": "python",
   "pygments_lexer": "ipython3",
   "version": "3.12.9"
  }
 },
 "nbformat": 4,
 "nbformat_minor": 5
}
