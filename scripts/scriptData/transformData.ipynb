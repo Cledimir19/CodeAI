{
 "cells": [
  {
   "cell_type": "code",
   "execution_count": 92,
   "id": "9359f34a",
   "metadata": {},
   "outputs": [],
   "source": [
    "import pandas as pd\n",
    "import numpy as np\n",
    "from rich import print\n",
    "import dill"
   ]
  },
  {
   "cell_type": "code",
   "execution_count": null,
   "id": "ee1230eb",
   "metadata": {},
   "outputs": [],
   "source": [
    "data = pd.read_csv('../../data/structured/all_data.csv')\n",
    "# train = pd.read_csv('../../data/structured/carbon_train.csv')"
   ]
  },
  {
   "cell_type": "code",
   "execution_count": null,
   "id": "ed147909",
   "metadata": {},
   "outputs": [],
   "source": [
    "data.head()"
   ]
  },
  {
   "cell_type": "code",
   "execution_count": null,
   "id": "80f8728d",
   "metadata": {},
   "outputs": [],
   "source": [
    "data.dtypes"
   ]
  },
  {
   "cell_type": "code",
   "execution_count": null,
   "id": "cdef5d98",
   "metadata": {},
   "outputs": [],
   "source": [
    "numerics_columns = data.select_dtypes(include=['int64', 'float64']).columns.tolist()\n",
    "text_columns = ['message']\n",
    "categorical_columns = data.select_dtypes(include=['object']).columns.tolist()\n",
    "categorical_columns.remove('message')"
   ]
  },
  {
   "cell_type": "code",
   "execution_count": null,
   "id": "d66aeef4",
   "metadata": {},
   "outputs": [],
   "source": [
    "print(\"Numerics columns:\", numerics_columns)\n",
    "print(\"Text columns:\", text_columns)\n",
    "print(\"Categorical columns:\", categorical_columns)"
   ]
  },
  {
   "cell_type": "code",
   "execution_count": null,
   "id": "13772b46",
   "metadata": {},
   "outputs": [],
   "source": [
    "from sklearn.preprocessing import OneHotEncoder, MinMaxScaler\n",
    "from sklearn.feature_extraction.text import TfidfVectorizer\n",
    "from sklearn.decomposition import PCA\n",
    "from sklearn.base import BaseEstimator, TransformerMixin\n",
    "from sklearn.compose import ColumnTransformer"
   ]
  },
  {
   "cell_type": "code",
   "execution_count": 90,
   "id": "9981b329",
   "metadata": {},
   "outputs": [],
   "source": [
    "class TransformerData(BaseEstimator, TransformerMixin):\n",
    "    def __init__(self, numerics_columns, text_column, categorical_columns, n_components=100):\n",
    "        self.n_components = n_components\n",
    "        self.numerics_columns = numerics_columns\n",
    "        self.text_column = text_column  # deve ser uma string, ex: 'mensagem'\n",
    "        self.categorical_columns = categorical_columns\n",
    "        self.numerics_transformer = MinMaxScaler()\n",
    "        self.text_transformer = TfidfVectorizer()\n",
    "        self.categorical_transformer = OneHotEncoder(handle_unknown='infrequent_if_exist', sparse_output=False)\n",
    "        self.pca_transformer = PCA(n_components=n_components, random_state=42)\n",
    "\n",
    "    def fit(self, X, y=None):\n",
    "        self.numerics_transformer.fit(X[self.numerics_columns])\n",
    "        self.text_transformer.fit(X[self.text_column].squeeze().astype(str))\n",
    "        self.categorical_transformer.fit(X[self.categorical_columns])\n",
    "        return self\n",
    "\n",
    "    def transform(self, X):\n",
    "        numerics_transformed = self.numerics_transformer.transform(X[self.numerics_columns])\n",
    "        text_transformed    = self.text_transformer.transform(X[self.text_column].squeeze().astype(str))\n",
    "        transformed_pca = self.pca_transformer.fit_transform(text_transformed)\n",
    "        categorical_transformed = self.categorical_transformer.transform(X[self.categorical_columns])\n",
    "        \n",
    "        # aí sim concatene\n",
    "        transformed_data = np.hstack((\n",
    "            numerics_transformed,\n",
    "            transformed_pca,\n",
    "            categorical_transformed\n",
    "        ))\n",
    "\n",
    "        return pd.DataFrame(transformed_data, index=X.index)\n"
   ]
  },
  {
   "cell_type": "code",
   "execution_count": null,
   "id": "8d2b93ff",
   "metadata": {},
   "outputs": [],
   "source": [
    "transform = TransformerData(n_components=100,numerics_columns=numerics_columns, text_column=text_columns, categorical_columns=categorical_columns)\n",
    "transform.fit(data)\n",
    "trns = transform.transform(data)\n",
    "with open('../../data/files/transformer.dill', 'wb') as f:\n",
    "    dill.dump(transform, f)\n",
    "data_trains = pd.read_csv('../../data/structured/carbon_train.csv')\n",
    "data_trains =  transform.transform(data_trains)\n",
    "data_trains.to_csv('../../data/processed/train.csv')\n",
    "data_test = pd.read_csv('../../data/test/carbon_test.csv')\n",
    "data_test = transform.transform(data_test)\n",
    "data_test.to_csv('../../data/processed/test.csv', index=False)"
   ]
  }
 ],
 "metadata": {
  "kernelspec": {
   "display_name": "env",
   "language": "python",
   "name": "python3"
  },
  "language_info": {
   "codemirror_mode": {
    "name": "ipython",
    "version": 3
   },
   "file_extension": ".py",
   "mimetype": "text/x-python",
   "name": "python",
   "nbconvert_exporter": "python",
   "pygments_lexer": "ipython3",
   "version": "3.12.9"
  }
 },
 "nbformat": 4,
 "nbformat_minor": 5
}
