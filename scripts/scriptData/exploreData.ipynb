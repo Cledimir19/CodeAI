{
 "cells": [
  {
   "cell_type": "code",
   "execution_count": 40,
   "id": "7f152e5f",
   "metadata": {},
   "outputs": [],
   "source": [
    "import pandas as pd\n",
    "from ydata_profiling import ProfileReport\n",
    "\n",
    "data = pd.read_csv(\"../../data/structured/carbon.csv\")\n",
    "# profile = ProfileReport(data, title=\"Carbon Emissions Data Profiling Report\", explorative=True)\n",
    "# profile.to_file('../../data/files/analysis.html')"
   ]
  },
  {
   "cell_type": "code",
   "execution_count": 41,
   "id": "bc0b838a",
   "metadata": {},
   "outputs": [],
   "source": [
    "data.drop(columns=['TID', 'logger'],inplace=True)"
   ]
  },
  {
   "cell_type": "code",
   "execution_count": 42,
   "id": "070ce889",
   "metadata": {},
   "outputs": [],
   "source": [
    "def organizar_por_timestamp_context(df, col_timestamp='timestamp', col_context='context'):\n",
    "    \"\"\"\n",
    "    Ordena o DataFrame pelo timestamp crescente e depois pelo context.\n",
    "    \n",
    "    Parâmetros:\n",
    "        df: pandas.DataFrame\n",
    "        col_timestamp: nome da coluna de timestamp\n",
    "        col_context: nome da coluna de contexto\n",
    "    Retorna:\n",
    "        DataFrame ordenado\n",
    "    \"\"\"\n",
    "    # Garantir que a coluna de timestamp é datetime\n",
    "    df[col_timestamp] = pd.to_datetime(df[col_timestamp])\n",
    "    # Ordenar pelos dois campos\n",
    "    df_ordenado = df.sort_values(by=[col_context,col_timestamp], ascending=[True, True]).reset_index(drop=True)\n",
    "    return df_ordenado\n",
    "\n",
    "data = organizar_por_timestamp_context(data)\n"
   ]
  },
  {
   "cell_type": "code",
   "execution_count": 43,
   "id": "e49c25c9",
   "metadata": {},
   "outputs": [],
   "source": [
    "data['timestamp'] = pd.to_datetime(data['timestamp'])\n",
    "data['ano'] = data['timestamp'].dt.year\n",
    "data['mes'] = data['timestamp'].dt.month\n",
    "data['dia'] = data['timestamp'].dt.day\n",
    "data['hora'] = data['timestamp'].dt.hour\n",
    "data['minuto'] = data['timestamp'].dt.minute\n",
    "data['segundo'] = data['timestamp'].dt.second\n",
    "data.drop(columns=['timestamp'], inplace=True)\n"
   ]
  },
  {
   "cell_type": "code",
   "execution_count": null,
   "id": "1895a94d",
   "metadata": {},
   "outputs": [],
   "source": [
    "data"
   ]
  },
  {
   "cell_type": "code",
   "execution_count": 38,
   "id": "25e72278",
   "metadata": {},
   "outputs": [
    {
     "name": "stdout",
     "output_type": "stream",
     "text": [
      "Total de ano diferentes: 2\n",
      "Total de mes diferentes: 3\n",
      "Total de dia diferentes: 31\n",
      "Total de hora diferentes: 24\n",
      "Total de minuto diferentes: 60\n",
      "Total de segundo diferentes: 60\n"
     ]
    }
   ],
   "source": [
    "print(f'Total de ano diferentes: {data[\"ano\"].nunique()}')\n",
    "print(f'Total de mes diferentes: {data[\"mes\"].nunique()}')\n",
    "print(f'Total de dia diferentes: {data[\"dia\"].nunique()}')\n",
    "print(f'Total de hora diferentes: {data[\"hora\"].nunique()}')\n",
    "print(f'Total de minuto diferentes: {data[\"minuto\"].nunique()}')\n",
    "print(f'Total de segundo diferentes: {data[\"segundo\"].nunique()}')"
   ]
  },
  {
   "cell_type": "code",
   "execution_count": 37,
   "id": "b0a2f108",
   "metadata": {},
   "outputs": [
    {
     "name": "stdout",
     "output_type": "stream",
     "text": [
      "Index: 8, Level: ERROR\n"
     ]
    },
    {
     "data": {
      "text/plain": [
       "level                                                  ERROR\n",
       "context    org.wso2.carbon.crypto.provider.internal.Defau...\n",
       "message    An error occurred while activating 'org.wso2.c...\n",
       "ano                                                     2024\n",
       "mes                                                       11\n",
       "dia                                                       15\n",
       "hora                                                      15\n",
       "minuto                                                    44\n",
       "segundo                                                   30\n",
       "Name: 8, dtype: object"
      ]
     },
     "metadata": {},
     "output_type": "display_data"
    }
   ],
   "source": [
    "index = 0\n",
    "for level in data['level']:\n",
    "    if level in ['ERROR','WARN']:\n",
    "        print(f'Index: {index}, Level: {level}')\n",
    "        break\n",
    "    index += 1\n",
    "display(data.iloc[index])"
   ]
  },
  {
   "cell_type": "code",
   "execution_count": null,
   "id": "c2a9c0ab",
   "metadata": {},
   "outputs": [],
   "source": []
  },
  {
   "cell_type": "code",
   "execution_count": null,
   "id": "fc594381",
   "metadata": {},
   "outputs": [],
   "source": []
  },
  {
   "cell_type": "code",
   "execution_count": null,
   "id": "f59d6393",
   "metadata": {},
   "outputs": [],
   "source": []
  },
  {
   "cell_type": "code",
   "execution_count": null,
   "id": "1bb5510c",
   "metadata": {},
   "outputs": [],
   "source": []
  },
  {
   "cell_type": "code",
   "execution_count": 6,
   "id": "fd744d36",
   "metadata": {},
   "outputs": [],
   "source": [
    "# Seleciona mensagens únicas do nível ERROR\n",
    "mensagens_erro = data['message'][data['level'] == 'ERROR'].unique()\n",
    "\n",
    "# Salva cada mensagem em uma nova linha de um arquivo .txt\n",
    "with open(\"../../data/files/unique_error.txt\", \"w\", encoding=\"utf-8\") as f:\n",
    "    for mensagem in mensagens_erro:\n",
    "        f.write(str(mensagem) + \"\\n\")\n"
   ]
  },
  {
   "cell_type": "code",
   "execution_count": 8,
   "id": "4248342c",
   "metadata": {},
   "outputs": [],
   "source": [
    "import pandas as pd\n",
    "\n",
    "def filtrar_e_salvar_erros(\n",
    "    df, \n",
    "    coluna_msg='message', \n",
    "    coluna_nivel='level', \n",
    "    termo_excluir='#getNewJsonPayload',\n",
    "    nivel_erro='ERROR',\n",
    "    caminho_saida='unique_error.txt'\n",
    "):\n",
    "    \"\"\"\n",
    "    Filtra mensagens que NÃO contenham o termo_excluir, reseta o índice,\n",
    "    extrai mensagens únicas do nível especificado e salva em arquivo txt.\n",
    "    \n",
    "    Parâmetros:\n",
    "    - df: DataFrame original.\n",
    "    - coluna_msg: nome da coluna da mensagem.\n",
    "    - coluna_nivel: nome da coluna do nível.\n",
    "    - termo_excluir: termo a ser removido das mensagens.\n",
    "    - nivel_erro: nível de erro a ser filtrado ('ERROR', por padrão).\n",
    "    - caminho_saida: caminho para salvar o arquivo .txt.\n",
    "    \n",
    "    Retorna:\n",
    "    - DataFrame filtrado.\n",
    "    \"\"\"\n",
    "    # Remove linhas com o termo indesejado\n",
    "    dataM = df[~df[coluna_msg].str.contains(termo_excluir, na=False)].reset_index(drop=True)\n",
    "    \n",
    "    # Seleciona mensagens únicas do nível especificado\n",
    "    mensagens_erro = dataM[coluna_msg][dataM[coluna_nivel] == nivel_erro].unique()\n",
    "    \n",
    "    # Salva no arquivo txt\n",
    "    with open(caminho_saida, \"w\", encoding=\"utf-8\") as f:\n",
    "        for mensagem in mensagens_erro:\n",
    "            f.write(str(mensagem) + \"\\n\")\n",
    "    \n",
    "    return dataM.reset_index(drop=True)\n",
    "\n",
    "# Exemplo de uso:\n",
    "dataM = filtrar_e_salvar_erros(data, caminho_saida=\"../../data/files/unique_error1.txt\")\n"
   ]
  },
  {
   "cell_type": "code",
   "execution_count": 13,
   "metadata": {},
   "outputs": [],
   "source": [
    "dataCNHR = filtrar_e_salvar_erros(dataM,caminho_saida=\"../../data/files/unique_error2.txt\",termo_excluir='Could not handle request')"
   ]
  },
  {
   "cell_type": "code",
   "execution_count": null,
   "id": "75895236",
   "metadata": {
    "vscode": {
     "languageId": "groovy"
    }
   },
   "outputs": [
    {
     "name": "stdout",
     "output_type": "stream",
     "text": [
      "2024-11-15 15:44:30.720 2025-01-22 23:59:51.188\n"
     ]
    }
   ],
   "source": []
  },
  {
   "cell_type": "code",
   "execution_count": 16,
   "id": "e8997f83",
   "metadata": {},
   "outputs": [
    {
     "data": {
      "text/html": [
       "<div>\n",
       "<style scoped>\n",
       "    .dataframe tbody tr th:only-of-type {\n",
       "        vertical-align: middle;\n",
       "    }\n",
       "\n",
       "    .dataframe tbody tr th {\n",
       "        vertical-align: top;\n",
       "    }\n",
       "\n",
       "    .dataframe thead th {\n",
       "        text-align: right;\n",
       "    }\n",
       "</style>\n",
       "<table border=\"1\" class=\"dataframe\">\n",
       "  <thead>\n",
       "    <tr style=\"text-align: right;\">\n",
       "      <th></th>\n",
       "      <th>timestamp</th>\n",
       "      <th>level</th>\n",
       "      <th>context</th>\n",
       "      <th>message</th>\n",
       "    </tr>\n",
       "  </thead>\n",
       "  <tbody>\n",
       "    <tr>\n",
       "      <th>0</th>\n",
       "      <td>2024-11-15 15:44:30.720</td>\n",
       "      <td>INFO</td>\n",
       "      <td>org.wso2.carbon.core.internal.CarbonCoreActivator</td>\n",
       "      <td>Starting WSO2 Carbon...</td>\n",
       "    </tr>\n",
       "    <tr>\n",
       "      <th>1</th>\n",
       "      <td>2024-11-15 15:44:30.739</td>\n",
       "      <td>INFO</td>\n",
       "      <td>org.wso2.carbon.core.internal.CarbonCoreActivator</td>\n",
       "      <td>Operating System : Linux 5.4.0-198-generic, amd64</td>\n",
       "    </tr>\n",
       "    <tr>\n",
       "      <th>2</th>\n",
       "      <td>2024-11-15 15:44:30.739</td>\n",
       "      <td>INFO</td>\n",
       "      <td>org.wso2.carbon.core.internal.CarbonCoreActivator</td>\n",
       "      <td>Java Home        : /opt/java/openjdk</td>\n",
       "    </tr>\n",
       "    <tr>\n",
       "      <th>3</th>\n",
       "      <td>2024-11-15 15:44:30.740</td>\n",
       "      <td>INFO</td>\n",
       "      <td>org.wso2.carbon.core.internal.CarbonCoreActivator</td>\n",
       "      <td>Java Version     : 11.0.10</td>\n",
       "    </tr>\n",
       "    <tr>\n",
       "      <th>4</th>\n",
       "      <td>2024-11-15 15:44:30.740</td>\n",
       "      <td>INFO</td>\n",
       "      <td>org.wso2.carbon.core.internal.CarbonCoreActivator</td>\n",
       "      <td>Java VM          : OpenJDK 64-Bit Server VM 11...</td>\n",
       "    </tr>\n",
       "    <tr>\n",
       "      <th>...</th>\n",
       "      <td>...</td>\n",
       "      <td>...</td>\n",
       "      <td>...</td>\n",
       "      <td>...</td>\n",
       "    </tr>\n",
       "    <tr>\n",
       "      <th>1051828</th>\n",
       "      <td>2025-01-22 23:59:45.668</td>\n",
       "      <td>WARN</td>\n",
       "      <td>org.wso2.carbon.databridge.agent.endpoint.Data...</td>\n",
       "      <td>No receiver is reachable at reconnection, will...</td>\n",
       "    </tr>\n",
       "    <tr>\n",
       "      <th>1051829</th>\n",
       "      <td>2025-01-22 23:59:45.674</td>\n",
       "      <td>INFO</td>\n",
       "      <td>org.wso2.carbon.databridge.core.DataBridge</td>\n",
       "      <td>user adminsuper@nosi.cv connected</td>\n",
       "    </tr>\n",
       "    <tr>\n",
       "      <th>1051830</th>\n",
       "      <td>2025-01-22 23:59:45.676</td>\n",
       "      <td>ERROR</td>\n",
       "      <td>org.wso2.carbon.databridge.agent.endpoint.Data...</td>\n",
       "      <td>Error while trying to connect to the endpoint....</td>\n",
       "    </tr>\n",
       "    <tr>\n",
       "      <th>1051831</th>\n",
       "      <td>2025-01-22 23:59:45.676</td>\n",
       "      <td>ERROR</td>\n",
       "      <td>org.wso2.carbon.databridge.agent.endpoint.Data...</td>\n",
       "      <td>Error while trying to connect to the endpoint....</td>\n",
       "    </tr>\n",
       "    <tr>\n",
       "      <th>1051832</th>\n",
       "      <td>2025-01-22 23:59:51.188</td>\n",
       "      <td>INFO</td>\n",
       "      <td>org.wso2.carbon.databridge.core.DataBridge</td>\n",
       "      <td>user adminsuper@nosi.cv connected</td>\n",
       "    </tr>\n",
       "  </tbody>\n",
       "</table>\n",
       "<p>1051833 rows × 4 columns</p>\n",
       "</div>"
      ],
      "text/plain": [
       "                       timestamp  level  \\\n",
       "0        2024-11-15 15:44:30.720   INFO   \n",
       "1        2024-11-15 15:44:30.739   INFO   \n",
       "2        2024-11-15 15:44:30.739   INFO   \n",
       "3        2024-11-15 15:44:30.740   INFO   \n",
       "4        2024-11-15 15:44:30.740   INFO   \n",
       "...                          ...    ...   \n",
       "1051828  2025-01-22 23:59:45.668   WARN   \n",
       "1051829  2025-01-22 23:59:45.674   INFO   \n",
       "1051830  2025-01-22 23:59:45.676  ERROR   \n",
       "1051831  2025-01-22 23:59:45.676  ERROR   \n",
       "1051832  2025-01-22 23:59:51.188   INFO   \n",
       "\n",
       "                                                   context  \\\n",
       "0        org.wso2.carbon.core.internal.CarbonCoreActivator   \n",
       "1        org.wso2.carbon.core.internal.CarbonCoreActivator   \n",
       "2        org.wso2.carbon.core.internal.CarbonCoreActivator   \n",
       "3        org.wso2.carbon.core.internal.CarbonCoreActivator   \n",
       "4        org.wso2.carbon.core.internal.CarbonCoreActivator   \n",
       "...                                                    ...   \n",
       "1051828  org.wso2.carbon.databridge.agent.endpoint.Data...   \n",
       "1051829         org.wso2.carbon.databridge.core.DataBridge   \n",
       "1051830  org.wso2.carbon.databridge.agent.endpoint.Data...   \n",
       "1051831  org.wso2.carbon.databridge.agent.endpoint.Data...   \n",
       "1051832         org.wso2.carbon.databridge.core.DataBridge   \n",
       "\n",
       "                                                   message  \n",
       "0                                  Starting WSO2 Carbon...  \n",
       "1        Operating System : Linux 5.4.0-198-generic, amd64  \n",
       "2                     Java Home        : /opt/java/openjdk  \n",
       "3                               Java Version     : 11.0.10  \n",
       "4        Java VM          : OpenJDK 64-Bit Server VM 11...  \n",
       "...                                                    ...  \n",
       "1051828  No receiver is reachable at reconnection, will...  \n",
       "1051829                  user adminsuper@nosi.cv connected  \n",
       "1051830  Error while trying to connect to the endpoint....  \n",
       "1051831  Error while trying to connect to the endpoint....  \n",
       "1051832                  user adminsuper@nosi.cv connected  \n",
       "\n",
       "[1051833 rows x 4 columns]"
      ]
     },
     "execution_count": 16,
     "metadata": {},
     "output_type": "execute_result"
    }
   ],
   "source": [
    "data"
   ]
  },
  {
   "cell_type": "code",
   "execution_count": null,
   "id": "f923eb43",
   "metadata": {},
   "outputs": [],
   "source": []
  },
  {
   "cell_type": "code",
   "execution_count": null,
   "id": "2cb99bc2",
   "metadata": {},
   "outputs": [],
   "source": []
  },
  {
   "cell_type": "code",
   "execution_count": 44,
   "id": "b9696cb1",
   "metadata": {},
   "outputs": [],
   "source": [
    "data.to_csv(\"../../data/structured/carbon_feature_engineered.csv\", index=False)"
   ]
  }
 ],
 "metadata": {
  "kernelspec": {
   "display_name": "env",
   "language": "python",
   "name": "python3"
  },
  "language_info": {
   "codemirror_mode": {
    "name": "ipython",
    "version": 3
   },
   "file_extension": ".py",
   "mimetype": "text/x-python",
   "name": "python",
   "nbconvert_exporter": "python",
   "pygments_lexer": "ipython3",
   "version": "3.12.9"
  }
 },
 "nbformat": 4,
 "nbformat_minor": 5
}
