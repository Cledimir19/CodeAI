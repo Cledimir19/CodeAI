{
 "cells": [
  {
   "cell_type": "code",
   "execution_count": null,
   "id": "2333f753",
   "metadata": {},
   "outputs": [],
   "source": [
    "import os\n",
    "os.chdir(r\"c:\\\\Users\\\\cledimir.semedo\\\\Desktop\\\\CodeAI\")"
   ]
  },
  {
   "cell_type": "code",
   "execution_count": null,
   "id": "1f2c9657",
   "metadata": {},
   "outputs": [],
   "source": [
    "import tensorflow as tf"
   ]
  },
  {
   "cell_type": "code",
   "execution_count": null,
   "id": "676565de",
   "metadata": {},
   "outputs": [],
   "source": [
    "import pandas as pd\n",
    "import numpy as np\n",
    "from rich import print\n",
    "from scripts.scriptModel.models import build_transformer_autoencoder\n",
    "autoencoder = build_transformer_autoencoder(\n",
    "    seq_len=60,\n",
    "    feature_dim=281,\n",
    "    d_model=128,\n",
    "    num_heads=4,\n",
    "    dff=512,\n",
    "    num_layers=2,\n",
    "    dropout_rate=0.1\n",
    ")"
   ]
  },
  {
   "cell_type": "code",
   "execution_count": null,
   "id": "03170230",
   "metadata": {},
   "outputs": [],
   "source": [
    "autoencoder.compile(optimizer='adam', loss='mse')"
   ]
  },
  {
   "cell_type": "code",
   "execution_count": null,
   "id": "a49a6d5f",
   "metadata": {},
   "outputs": [],
   "source": [
    "data = pd.read_csv(\"data/processed/train.csv\")"
   ]
  },
  {
   "cell_type": "code",
   "execution_count": null,
   "id": "bddbbc95",
   "metadata": {},
   "outputs": [],
   "source": [
    "from sklearn.model_selection import train_test_split\n",
    "train_data, val_data = train_test_split(data, test_size=0.3, random_state=42)"
   ]
  },
  {
   "cell_type": "code",
   "execution_count": null,
   "id": "442a6e35",
   "metadata": {},
   "outputs": [],
   "source": [
    "def sequenceData(data, seq_len=60):\n",
    "    \"\"\"\n",
    "    Transform the data into sequences of a given length.\n",
    "    \"\"\"\n",
    "    sequences = []\n",
    "    for i in range(len(data) - seq_len + 1):\n",
    "        sequences.append(data[i:i + seq_len])\n",
    "    return np.array(sequences,dtype=np.float32)\n",
    "data_train = sequenceData(train_data[:100_000].values, seq_len=60)\n",
    "data_val = sequenceData(val_data.values, seq_len=60)\n",
    "print(f\"Shape of sequences: {data.shape}\")\n",
    "print(f\"Shape of training data: {data_train.shape}\")"
   ]
  },
  {
   "cell_type": "code",
   "execution_count": null,
   "id": "8dd424ce",
   "metadata": {},
   "outputs": [],
   "source": [
    "autoencoder.fit(\n",
    "    data_train[:10_000],\n",
    "    data_train[:10_000],\n",
    "    epochs=10,\n",
    "    batch_size=64,\n",
    "    validation_data=(data_val, data_val),\n",
    "    callbacks=[\n",
    "        tf.keras.callbacks.EarlyStopping(monitor='val_loss', patience=3, restore_best_weights=True),\n",
    "        tf.keras.callbacks.ReduceLROnPlateau(monitor='val_loss', factor=0.2, patience=2, min_lr=1e-6)\n",
    "    ]\n",
    ")"
   ]
  }
 ],
 "metadata": {
  "kernelspec": {
   "display_name": "env",
   "language": "python",
   "name": "python3"
  },
  "language_info": {
   "codemirror_mode": {
    "name": "ipython",
    "version": 3
   },
   "file_extension": ".py",
   "mimetype": "text/x-python",
   "name": "python",
   "nbconvert_exporter": "python",
   "pygments_lexer": "ipython3",
   "version": "3.12.9"
  }
 },
 "nbformat": 4,
 "nbformat_minor": 5
}
