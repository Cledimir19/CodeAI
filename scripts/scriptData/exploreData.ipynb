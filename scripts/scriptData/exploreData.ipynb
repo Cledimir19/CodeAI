{
 "cells": [
  {
   "cell_type": "code",
   "execution_count": null,
   "id": "7f152e5f",
   "metadata": {},
   "outputs": [],
   "source": [
    "import pandas as pd\n",
    "from ydata_profiling import ProfileReport\n",
    "\n",
    "data = pd.read_csv(\"../../data/structured/carbon.csv\")\n",
    "profile = ProfileReport(data, title=\"Carbon Emissions Data Profiling Report\", explorative=True)\n",
    "profile.to_file('../../data/files/analysis.html')"
   ]
  },
  {
   "cell_type": "code",
   "execution_count": 8,
   "id": "bc0b838a",
   "metadata": {},
   "outputs": [],
   "source": [
    "data.drop(columns=['TID', 'logger'],inplace=True)"
   ]
  },
  {
   "cell_type": "code",
   "execution_count": 9,
   "id": "53b416d1",
   "metadata": {},
   "outputs": [
    {
     "data": {
      "text/html": [
       "<div>\n",
       "<style scoped>\n",
       "    .dataframe tbody tr th:only-of-type {\n",
       "        vertical-align: middle;\n",
       "    }\n",
       "\n",
       "    .dataframe tbody tr th {\n",
       "        vertical-align: top;\n",
       "    }\n",
       "\n",
       "    .dataframe thead th {\n",
       "        text-align: right;\n",
       "    }\n",
       "</style>\n",
       "<table border=\"1\" class=\"dataframe\">\n",
       "  <thead>\n",
       "    <tr style=\"text-align: right;\">\n",
       "      <th></th>\n",
       "      <th>timestamp</th>\n",
       "      <th>level</th>\n",
       "      <th>context</th>\n",
       "      <th>message</th>\n",
       "    </tr>\n",
       "  </thead>\n",
       "  <tbody>\n",
       "    <tr>\n",
       "      <th>0</th>\n",
       "      <td>2024-11-15 15:44:30.720</td>\n",
       "      <td>INFO</td>\n",
       "      <td>org.wso2.carbon.core.internal.CarbonCoreActivator</td>\n",
       "      <td>Starting WSO2 Carbon...</td>\n",
       "    </tr>\n",
       "    <tr>\n",
       "      <th>1</th>\n",
       "      <td>2024-11-15 15:44:30.739</td>\n",
       "      <td>INFO</td>\n",
       "      <td>org.wso2.carbon.core.internal.CarbonCoreActivator</td>\n",
       "      <td>Operating System : Linux 5.4.0-198-generic, amd64</td>\n",
       "    </tr>\n",
       "    <tr>\n",
       "      <th>2</th>\n",
       "      <td>2024-11-15 15:44:30.739</td>\n",
       "      <td>INFO</td>\n",
       "      <td>org.wso2.carbon.core.internal.CarbonCoreActivator</td>\n",
       "      <td>Java Home        : /opt/java/openjdk</td>\n",
       "    </tr>\n",
       "    <tr>\n",
       "      <th>3</th>\n",
       "      <td>2024-11-15 15:44:30.740</td>\n",
       "      <td>INFO</td>\n",
       "      <td>org.wso2.carbon.core.internal.CarbonCoreActivator</td>\n",
       "      <td>Java Version     : 11.0.10</td>\n",
       "    </tr>\n",
       "    <tr>\n",
       "      <th>4</th>\n",
       "      <td>2024-11-15 15:44:30.740</td>\n",
       "      <td>INFO</td>\n",
       "      <td>org.wso2.carbon.core.internal.CarbonCoreActivator</td>\n",
       "      <td>Java VM          : OpenJDK 64-Bit Server VM 11...</td>\n",
       "    </tr>\n",
       "  </tbody>\n",
       "</table>\n",
       "</div>"
      ],
      "text/plain": [
       "                 timestamp level  \\\n",
       "0  2024-11-15 15:44:30.720  INFO   \n",
       "1  2024-11-15 15:44:30.739  INFO   \n",
       "2  2024-11-15 15:44:30.739  INFO   \n",
       "3  2024-11-15 15:44:30.740  INFO   \n",
       "4  2024-11-15 15:44:30.740  INFO   \n",
       "\n",
       "                                             context  \\\n",
       "0  org.wso2.carbon.core.internal.CarbonCoreActivator   \n",
       "1  org.wso2.carbon.core.internal.CarbonCoreActivator   \n",
       "2  org.wso2.carbon.core.internal.CarbonCoreActivator   \n",
       "3  org.wso2.carbon.core.internal.CarbonCoreActivator   \n",
       "4  org.wso2.carbon.core.internal.CarbonCoreActivator   \n",
       "\n",
       "                                             message  \n",
       "0                            Starting WSO2 Carbon...  \n",
       "1  Operating System : Linux 5.4.0-198-generic, amd64  \n",
       "2               Java Home        : /opt/java/openjdk  \n",
       "3                         Java Version     : 11.0.10  \n",
       "4  Java VM          : OpenJDK 64-Bit Server VM 11...  "
      ]
     },
     "execution_count": 9,
     "metadata": {},
     "output_type": "execute_result"
    }
   ],
   "source": [
    "data.head()"
   ]
  }
 ],
 "metadata": {
  "kernelspec": {
   "display_name": "env",
   "language": "python",
   "name": "python3"
  },
  "language_info": {
   "codemirror_mode": {
    "name": "ipython",
    "version": 3
   },
   "file_extension": ".py",
   "mimetype": "text/x-python",
   "name": "python",
   "nbconvert_exporter": "python",
   "pygments_lexer": "ipython3",
   "version": "3.12.9"
  }
 },
 "nbformat": 4,
 "nbformat_minor": 5
}
