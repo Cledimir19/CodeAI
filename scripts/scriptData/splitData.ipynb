{
 "cells": [
  {
   "cell_type": "code",
   "execution_count": 14,
   "id": "5ab06438",
   "metadata": {},
   "outputs": [],
   "source": [
    "import pandas as pd\n",
    "from sklearn.model_selection import train_test_split\n",
    "from rich import print"
   ]
  },
  {
   "cell_type": "code",
   "execution_count": null,
   "id": "593f44b4",
   "metadata": {},
   "outputs": [
    {
     "data": {
      "text/html": [
       "<div>\n",
       "<style scoped>\n",
       "    .dataframe tbody tr th:only-of-type {\n",
       "        vertical-align: middle;\n",
       "    }\n",
       "\n",
       "    .dataframe tbody tr th {\n",
       "        vertical-align: top;\n",
       "    }\n",
       "\n",
       "    .dataframe thead th {\n",
       "        text-align: right;\n",
       "    }\n",
       "</style>\n",
       "<table border=\"1\" class=\"dataframe\">\n",
       "  <thead>\n",
       "    <tr style=\"text-align: right;\">\n",
       "      <th></th>\n",
       "      <th>timestamp</th>\n",
       "      <th>level</th>\n",
       "      <th>context</th>\n",
       "      <th>message</th>\n",
       "    </tr>\n",
       "  </thead>\n",
       "  <tbody>\n",
       "    <tr>\n",
       "      <th>8</th>\n",
       "      <td>2024-11-15 15:44:30.833</td>\n",
       "      <td>ERROR</td>\n",
       "      <td>org.wso2.carbon.crypto.provider.internal.Defau...</td>\n",
       "      <td>An error occurred while activating 'org.wso2.c...</td>\n",
       "    </tr>\n",
       "    <tr>\n",
       "      <th>11</th>\n",
       "      <td>2024-11-15 15:44:33.943</td>\n",
       "      <td>ERROR</td>\n",
       "      <td>org.wso2.carbon.user.core.ldap.LDAPConnectionC...</td>\n",
       "      <td>Error obtaining connection. rai-dc-pdx-ldap-02...</td>\n",
       "    </tr>\n",
       "    <tr>\n",
       "      <th>12</th>\n",
       "      <td>2024-11-15 15:44:34.052</td>\n",
       "      <td>ERROR</td>\n",
       "      <td>org.wso2.carbon.user.core.ldap.LDAPConnectionC...</td>\n",
       "      <td>Trying again to get connection.</td>\n",
       "    </tr>\n",
       "    <tr>\n",
       "      <th>13</th>\n",
       "      <td>2024-11-15 15:44:34.054</td>\n",
       "      <td>ERROR</td>\n",
       "      <td>org.wso2.carbon.user.core.ldap.LDAPConnectionC...</td>\n",
       "      <td>Error obtaining connection for the second time...</td>\n",
       "    </tr>\n",
       "    <tr>\n",
       "      <th>14</th>\n",
       "      <td>2024-11-15 15:44:34.062</td>\n",
       "      <td>ERROR</td>\n",
       "      <td>org.wso2.carbon.user.core.ldap.LDAPConnectionC...</td>\n",
       "      <td>Error occurred while obtaining LDAP connection...</td>\n",
       "    </tr>\n",
       "    <tr>\n",
       "      <th>15</th>\n",
       "      <td>2024-11-15 15:44:34.137</td>\n",
       "      <td>ERROR</td>\n",
       "      <td>org.wso2.carbon.user.core.ldap.LDAPConnectionC...</td>\n",
       "      <td>Trying again to get connection.</td>\n",
       "    </tr>\n",
       "    <tr>\n",
       "      <th>16</th>\n",
       "      <td>2024-11-15 15:44:34.138</td>\n",
       "      <td>ERROR</td>\n",
       "      <td>org.wso2.carbon.user.core.ldap.LDAPConnectionC...</td>\n",
       "      <td>Error obtaining connection. rai-dc-pdx-ldap-02...</td>\n",
       "    </tr>\n",
       "    <tr>\n",
       "      <th>17</th>\n",
       "      <td>2024-11-15 15:44:34.152</td>\n",
       "      <td>ERROR</td>\n",
       "      <td>org.wso2.carbon.user.core.ldap.LDAPConnectionC...</td>\n",
       "      <td>Trying again to get connection.</td>\n",
       "    </tr>\n",
       "    <tr>\n",
       "      <th>18</th>\n",
       "      <td>2024-11-15 15:44:34.153</td>\n",
       "      <td>ERROR</td>\n",
       "      <td>org.wso2.carbon.user.core.ldap.LDAPConnectionC...</td>\n",
       "      <td>Error obtaining connection for the second time...</td>\n",
       "    </tr>\n",
       "    <tr>\n",
       "      <th>19</th>\n",
       "      <td>2024-11-15 15:44:34.170</td>\n",
       "      <td>ERROR</td>\n",
       "      <td>org.wso2.carbon.user.core.ldap.LDAPConnectionC...</td>\n",
       "      <td>Error occurred while obtaining connection for ...</td>\n",
       "    </tr>\n",
       "  </tbody>\n",
       "</table>\n",
       "</div>"
      ],
      "text/plain": [
       "                  timestamp  level  \\\n",
       "8   2024-11-15 15:44:30.833  ERROR   \n",
       "11  2024-11-15 15:44:33.943  ERROR   \n",
       "12  2024-11-15 15:44:34.052  ERROR   \n",
       "13  2024-11-15 15:44:34.054  ERROR   \n",
       "14  2024-11-15 15:44:34.062  ERROR   \n",
       "15  2024-11-15 15:44:34.137  ERROR   \n",
       "16  2024-11-15 15:44:34.138  ERROR   \n",
       "17  2024-11-15 15:44:34.152  ERROR   \n",
       "18  2024-11-15 15:44:34.153  ERROR   \n",
       "19  2024-11-15 15:44:34.170  ERROR   \n",
       "\n",
       "                                              context  \\\n",
       "8   org.wso2.carbon.crypto.provider.internal.Defau...   \n",
       "11  org.wso2.carbon.user.core.ldap.LDAPConnectionC...   \n",
       "12  org.wso2.carbon.user.core.ldap.LDAPConnectionC...   \n",
       "13  org.wso2.carbon.user.core.ldap.LDAPConnectionC...   \n",
       "14  org.wso2.carbon.user.core.ldap.LDAPConnectionC...   \n",
       "15  org.wso2.carbon.user.core.ldap.LDAPConnectionC...   \n",
       "16  org.wso2.carbon.user.core.ldap.LDAPConnectionC...   \n",
       "17  org.wso2.carbon.user.core.ldap.LDAPConnectionC...   \n",
       "18  org.wso2.carbon.user.core.ldap.LDAPConnectionC...   \n",
       "19  org.wso2.carbon.user.core.ldap.LDAPConnectionC...   \n",
       "\n",
       "                                              message  \n",
       "8   An error occurred while activating 'org.wso2.c...  \n",
       "11  Error obtaining connection. rai-dc-pdx-ldap-02...  \n",
       "12                    Trying again to get connection.  \n",
       "13  Error obtaining connection for the second time...  \n",
       "14  Error occurred while obtaining LDAP connection...  \n",
       "15                    Trying again to get connection.  \n",
       "16  Error obtaining connection. rai-dc-pdx-ldap-02...  \n",
       "17                    Trying again to get connection.  \n",
       "18  Error obtaining connection for the second time...  \n",
       "19  Error occurred while obtaining connection for ...  "
      ]
     },
     "execution_count": 10,
     "metadata": {},
     "output_type": "execute_result"
    }
   ],
   "source": [
    "data = pd.read_csv('../../data/structured/carbon_feature_engineered.csv')\n",
    "data[data['level']=='ERROR'].head(2)"
   ]
  },
  {
   "cell_type": "code",
   "execution_count": 6,
   "id": "618b3009",
   "metadata": {},
   "outputs": [],
   "source": [
    "# Seleciona mensagens únicas do nível ERROR\n",
    "mensagens_erro = data['message'][data['level'] == 'ERROR'].unique()\n",
    "\n",
    "# Salva cada mensagem em uma nova linha de um arquivo .txt\n",
    "with open(\"../../data/files/unique_error.txt\", \"w\", encoding=\"utf-8\") as f:\n",
    "    for mensagem in mensagens_erro:\n",
    "        f.write(str(mensagem) + \"\\n\")\n"
   ]
  },
  {
   "cell_type": "code",
   "execution_count": 15,
   "id": "9b35d107",
   "metadata": {},
   "outputs": [
    {
     "data": {
      "text/html": [
       "<pre style=\"white-space:pre;overflow-x:auto;line-height:normal;font-family:Menlo,'DejaVu Sans Mono',consolas,'Courier New',monospace\"><span style=\"color: #008080; text-decoration-color: #008080; font-weight: bold\">876413</span>\n",
       "</pre>\n"
      ],
      "text/plain": [
       "\u001b[1;36m876413\u001b[0m\n"
      ]
     },
     "metadata": {},
     "output_type": "display_data"
    }
   ],
   "source": [
    "dataM = data[~data['message'].str.contains('#getNewJsonPayload', na=False)]\n",
    "print(dataM.__len__())"
   ]
  },
  {
   "cell_type": "code",
   "execution_count": 16,
   "id": "b8058e54",
   "metadata": {},
   "outputs": [],
   "source": [
    "# Seleciona mensagens únicas do nível ERROR\n",
    "mensagens_erro = dataM['message'][dataM['level'] == 'ERROR'].unique()\n",
    "\n",
    "# Salva cada mensagem em uma nova linha de um arquivo .txt\n",
    "with open(\"../../data/files/unique_errorM.txt\", \"w\", encoding=\"utf-8\") as f:\n",
    "    for mensagem in mensagens_erro:\n",
    "        f.write(str(mensagem) + \"\\n\")"
   ]
  },
  {
   "cell_type": "code",
   "execution_count": null,
   "id": "b4f86451",
   "metadata": {},
   "outputs": [],
   "source": []
  },
  {
   "cell_type": "code",
   "execution_count": null,
   "id": "1b7844c0",
   "metadata": {},
   "outputs": [],
   "source": []
  },
  {
   "cell_type": "code",
   "execution_count": null,
   "id": "92f7655e",
   "metadata": {},
   "outputs": [],
   "source": []
  },
  {
   "cell_type": "code",
   "execution_count": null,
   "id": "1d305a1f",
   "metadata": {},
   "outputs": [],
   "source": []
  },
  {
   "cell_type": "code",
   "execution_count": null,
   "id": "17198ac0",
   "metadata": {},
   "outputs": [],
   "source": [
    "train_data, test_data = train_test_split(data, test_size=0.3, random_state=42)\n",
    "\n",
    "print(f\"Treino: {len(train_data)}\")\n",
    "print(f\"Teste: {len(test_data)}\")"
   ]
  },
  {
   "cell_type": "code",
   "execution_count": null,
   "id": "4a76efbb",
   "metadata": {},
   "outputs": [],
   "source": [
    "train_data.to_csv('../../data/structured/carbon_train.csv', index=False)\n",
    "test_data.to_csv('../../data/test/carbon_test.csv', index=False)"
   ]
  }
 ],
 "metadata": {
  "kernelspec": {
   "display_name": "env",
   "language": "python",
   "name": "python3"
  },
  "language_info": {
   "codemirror_mode": {
    "name": "ipython",
    "version": 3
   },
   "file_extension": ".py",
   "mimetype": "text/x-python",
   "name": "python",
   "nbconvert_exporter": "python",
   "pygments_lexer": "ipython3",
   "version": "3.12.9"
  }
 },
 "nbformat": 4,
 "nbformat_minor": 5
}
