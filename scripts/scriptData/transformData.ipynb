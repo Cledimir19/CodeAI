{
 "cells": [
  {
   "cell_type": "code",
   "execution_count": 98,
   "id": "9359f34a",
   "metadata": {},
   "outputs": [],
   "source": [
    "import pandas as pd\n",
    "import numpy as np\n",
    "from rich import print\n",
    "import dill"
   ]
  },
  {
   "cell_type": "code",
   "execution_count": 99,
   "id": "ee1230eb",
   "metadata": {},
   "outputs": [],
   "source": [
    "data = pd.read_csv('../../data/structured/all_data.csv')\n",
    "# train = pd.read_csv('../../data/structured/carbon_train.csv')"
   ]
  },
  {
   "cell_type": "code",
   "execution_count": 100,
   "id": "ed147909",
   "metadata": {},
   "outputs": [
    {
     "data": {
      "application/vnd.microsoft.datawrangler.viewer.v0+json": {
       "columns": [
        {
         "name": "index",
         "rawType": "int64",
         "type": "integer"
        },
        {
         "name": "level",
         "rawType": "object",
         "type": "string"
        },
        {
         "name": "context",
         "rawType": "object",
         "type": "string"
        },
        {
         "name": "message",
         "rawType": "object",
         "type": "string"
        },
        {
         "name": "hora",
         "rawType": "int64",
         "type": "integer"
        },
        {
         "name": "minuto",
         "rawType": "int64",
         "type": "integer"
        },
        {
         "name": "segundo",
         "rawType": "int64",
         "type": "integer"
        }
       ],
       "ref": "c69cebd9-c4e3-4b1d-a44a-366e3246a1c1",
       "rows": [
        [
         "0",
         "ERROR",
         "API_LOGGER._OpenService_",
         "Error while building message. Error while building Passthrough stream org.apache.axis2.AxisFault: Error while building Passthrough stream",
         "19",
         "37",
         "10"
        ],
        [
         "1",
         "ERROR",
         "API_LOGGER._OpenService_",
         "Error while building message. Error while building Passthrough stream org.apache.axis2.AxisFault: Error while building Passthrough stream",
         "19",
         "37",
         "12"
        ],
        [
         "2",
         "ERROR",
         "API_LOGGER._OpenService_",
         "Error while building message. Error while building Passthrough stream org.apache.axis2.AxisFault: Error while building Passthrough stream",
         "20",
         "12",
         "12"
        ],
        [
         "3",
         "ERROR",
         "API_LOGGER._OpenService_",
         "Error while building message. Error while building Passthrough stream org.apache.axis2.AxisFault: Error while building Passthrough stream",
         "19",
         "46",
         "13"
        ],
        [
         "4",
         "ERROR",
         "java.lang.Class",
         "Access Denied. Failed authorization attempt to access service 'UserStoreConfigAdminService' operation 'getSecondaryRealmConfigurations' by 'monica.f.borges@nosi.cv'",
         "12",
         "27",
         "22"
        ]
       ],
       "shape": {
        "columns": 6,
        "rows": 5
       }
      },
      "text/html": [
       "<div>\n",
       "<style scoped>\n",
       "    .dataframe tbody tr th:only-of-type {\n",
       "        vertical-align: middle;\n",
       "    }\n",
       "\n",
       "    .dataframe tbody tr th {\n",
       "        vertical-align: top;\n",
       "    }\n",
       "\n",
       "    .dataframe thead th {\n",
       "        text-align: right;\n",
       "    }\n",
       "</style>\n",
       "<table border=\"1\" class=\"dataframe\">\n",
       "  <thead>\n",
       "    <tr style=\"text-align: right;\">\n",
       "      <th></th>\n",
       "      <th>level</th>\n",
       "      <th>context</th>\n",
       "      <th>message</th>\n",
       "      <th>hora</th>\n",
       "      <th>minuto</th>\n",
       "      <th>segundo</th>\n",
       "    </tr>\n",
       "  </thead>\n",
       "  <tbody>\n",
       "    <tr>\n",
       "      <th>0</th>\n",
       "      <td>ERROR</td>\n",
       "      <td>API_LOGGER._OpenService_</td>\n",
       "      <td>Error while building message. Error while buil...</td>\n",
       "      <td>19</td>\n",
       "      <td>37</td>\n",
       "      <td>10</td>\n",
       "    </tr>\n",
       "    <tr>\n",
       "      <th>1</th>\n",
       "      <td>ERROR</td>\n",
       "      <td>API_LOGGER._OpenService_</td>\n",
       "      <td>Error while building message. Error while buil...</td>\n",
       "      <td>19</td>\n",
       "      <td>37</td>\n",
       "      <td>12</td>\n",
       "    </tr>\n",
       "    <tr>\n",
       "      <th>2</th>\n",
       "      <td>ERROR</td>\n",
       "      <td>API_LOGGER._OpenService_</td>\n",
       "      <td>Error while building message. Error while buil...</td>\n",
       "      <td>20</td>\n",
       "      <td>12</td>\n",
       "      <td>12</td>\n",
       "    </tr>\n",
       "    <tr>\n",
       "      <th>3</th>\n",
       "      <td>ERROR</td>\n",
       "      <td>API_LOGGER._OpenService_</td>\n",
       "      <td>Error while building message. Error while buil...</td>\n",
       "      <td>19</td>\n",
       "      <td>46</td>\n",
       "      <td>13</td>\n",
       "    </tr>\n",
       "    <tr>\n",
       "      <th>4</th>\n",
       "      <td>ERROR</td>\n",
       "      <td>java.lang.Class</td>\n",
       "      <td>Access Denied. Failed authorization attempt to...</td>\n",
       "      <td>12</td>\n",
       "      <td>27</td>\n",
       "      <td>22</td>\n",
       "    </tr>\n",
       "  </tbody>\n",
       "</table>\n",
       "</div>"
      ],
      "text/plain": [
       "   level                   context  \\\n",
       "0  ERROR  API_LOGGER._OpenService_   \n",
       "1  ERROR  API_LOGGER._OpenService_   \n",
       "2  ERROR  API_LOGGER._OpenService_   \n",
       "3  ERROR  API_LOGGER._OpenService_   \n",
       "4  ERROR           java.lang.Class   \n",
       "\n",
       "                                             message  hora  minuto  segundo  \n",
       "0  Error while building message. Error while buil...    19      37       10  \n",
       "1  Error while building message. Error while buil...    19      37       12  \n",
       "2  Error while building message. Error while buil...    20      12       12  \n",
       "3  Error while building message. Error while buil...    19      46       13  \n",
       "4  Access Denied. Failed authorization attempt to...    12      27       22  "
      ]
     },
     "execution_count": 100,
     "metadata": {},
     "output_type": "execute_result"
    }
   ],
   "source": [
    "data.head()"
   ]
  },
  {
   "cell_type": "code",
   "execution_count": 101,
   "id": "80f8728d",
   "metadata": {},
   "outputs": [
    {
     "data": {
      "application/vnd.microsoft.datawrangler.viewer.v0+json": {
       "columns": [
        {
         "name": "index",
         "rawType": "object",
         "type": "string"
        },
        {
         "name": "0",
         "rawType": "object",
         "type": "unknown"
        }
       ],
       "ref": "9ef35285-e9fe-4862-9efc-37124d1f113d",
       "rows": [
        [
         "level",
         "object"
        ],
        [
         "context",
         "object"
        ],
        [
         "message",
         "object"
        ],
        [
         "hora",
         "int64"
        ],
        [
         "minuto",
         "int64"
        ],
        [
         "segundo",
         "int64"
        ]
       ],
       "shape": {
        "columns": 1,
        "rows": 6
       }
      },
      "text/plain": [
       "level      object\n",
       "context    object\n",
       "message    object\n",
       "hora        int64\n",
       "minuto      int64\n",
       "segundo     int64\n",
       "dtype: object"
      ]
     },
     "execution_count": 101,
     "metadata": {},
     "output_type": "execute_result"
    }
   ],
   "source": [
    "data.dtypes"
   ]
  },
  {
   "cell_type": "code",
   "execution_count": 102,
   "id": "cdef5d98",
   "metadata": {},
   "outputs": [],
   "source": [
    "numerics_columns = data.select_dtypes(include=['int64', 'float64']).columns.tolist()\n",
    "text_columns = ['message']\n",
    "categorical_columns = data.select_dtypes(include=['object']).columns.tolist()\n",
    "categorical_columns.remove('message')"
   ]
  },
  {
   "cell_type": "code",
   "execution_count": 103,
   "id": "d66aeef4",
   "metadata": {},
   "outputs": [
    {
     "data": {
      "text/html": [
       "<pre style=\"white-space:pre;overflow-x:auto;line-height:normal;font-family:Menlo,'DejaVu Sans Mono',consolas,'Courier New',monospace\">Numerics columns:\n",
       "<span style=\"font-weight: bold\">[</span><span style=\"color: #008000; text-decoration-color: #008000\">'hora'</span>, <span style=\"color: #008000; text-decoration-color: #008000\">'minuto'</span>, <span style=\"color: #008000; text-decoration-color: #008000\">'segundo'</span><span style=\"font-weight: bold\">]</span>\n",
       "</pre>\n"
      ],
      "text/plain": [
       "Numerics columns:\n",
       "\u001b[1m[\u001b[0m\u001b[32m'hora'\u001b[0m, \u001b[32m'minuto'\u001b[0m, \u001b[32m'segundo'\u001b[0m\u001b[1m]\u001b[0m\n"
      ]
     },
     "metadata": {},
     "output_type": "display_data"
    },
    {
     "data": {
      "text/html": [
       "<pre style=\"white-space:pre;overflow-x:auto;line-height:normal;font-family:Menlo,'DejaVu Sans Mono',consolas,'Courier New',monospace\">Text columns:\n",
       "<span style=\"font-weight: bold\">[</span><span style=\"color: #008000; text-decoration-color: #008000\">'message'</span><span style=\"font-weight: bold\">]</span>\n",
       "</pre>\n"
      ],
      "text/plain": [
       "Text columns:\n",
       "\u001b[1m[\u001b[0m\u001b[32m'message'\u001b[0m\u001b[1m]\u001b[0m\n"
      ]
     },
     "metadata": {},
     "output_type": "display_data"
    },
    {
     "data": {
      "text/html": [
       "<pre style=\"white-space:pre;overflow-x:auto;line-height:normal;font-family:Menlo,'DejaVu Sans Mono',consolas,'Courier New',monospace\">Categorical columns:\n",
       "<span style=\"font-weight: bold\">[</span><span style=\"color: #008000; text-decoration-color: #008000\">'level'</span>, <span style=\"color: #008000; text-decoration-color: #008000\">'context'</span><span style=\"font-weight: bold\">]</span>\n",
       "</pre>\n"
      ],
      "text/plain": [
       "Categorical columns:\n",
       "\u001b[1m[\u001b[0m\u001b[32m'level'\u001b[0m, \u001b[32m'context'\u001b[0m\u001b[1m]\u001b[0m\n"
      ]
     },
     "metadata": {},
     "output_type": "display_data"
    }
   ],
   "source": [
    "print(\"Numerics columns:\", numerics_columns)\n",
    "print(\"Text columns:\", text_columns)\n",
    "print(\"Categorical columns:\", categorical_columns)"
   ]
  },
  {
   "cell_type": "code",
   "execution_count": 104,
   "id": "13772b46",
   "metadata": {},
   "outputs": [],
   "source": [
    "from sklearn.preprocessing import OneHotEncoder, MinMaxScaler\n",
    "from sklearn.feature_extraction.text import TfidfVectorizer\n",
    "from sklearn.decomposition import PCA\n",
    "from sklearn.base import BaseEstimator, TransformerMixin\n",
    "from sklearn.compose import ColumnTransformer"
   ]
  },
  {
   "cell_type": "code",
   "execution_count": 105,
   "id": "9981b329",
   "metadata": {},
   "outputs": [],
   "source": [
    "class TransformerData(BaseEstimator, TransformerMixin):\n",
    "    def __init__(self, numerics_columns, text_column, categorical_columns, n_components=100):\n",
    "        self.n_components = n_components\n",
    "        self.numerics_columns = numerics_columns\n",
    "        self.text_column = text_column  # deve ser uma string, ex: 'mensagem'\n",
    "        self.categorical_columns = categorical_columns\n",
    "        self.numerics_transformer = MinMaxScaler()\n",
    "        self.text_transformer = TfidfVectorizer()\n",
    "        self.categorical_transformer = OneHotEncoder(handle_unknown='infrequent_if_exist', sparse_output=False)\n",
    "        self.pca_transformer = PCA(n_components=n_components, random_state=42)\n",
    "\n",
    "    def fit(self, X, y=None):\n",
    "        self.numerics_transformer.fit(X[self.numerics_columns])\n",
    "        self.text_transformer.fit(X[self.text_column].squeeze().astype(str))\n",
    "        self.categorical_transformer.fit(X[self.categorical_columns])\n",
    "        return self\n",
    "\n",
    "    def transform(self, X):\n",
    "        numerics_transformed = self.numerics_transformer.transform(X[self.numerics_columns])\n",
    "        text_transformed    = self.text_transformer.transform(X[self.text_column].squeeze().astype(str))\n",
    "        transformed_pca = self.pca_transformer.fit_transform(text_transformed)\n",
    "        categorical_transformed = self.categorical_transformer.transform(X[self.categorical_columns])\n",
    "        \n",
    "        # aí sim concatene\n",
    "        transformed_data = np.hstack((\n",
    "            numerics_transformed,\n",
    "            transformed_pca,\n",
    "            categorical_transformed\n",
    "        ))\n",
    "\n",
    "        return pd.DataFrame(transformed_data, index=X.index)\n"
   ]
  },
  {
   "cell_type": "code",
   "execution_count": 106,
   "id": "8d2b93ff",
   "metadata": {},
   "outputs": [],
   "source": [
    "transform = TransformerData(n_components=100,numerics_columns=numerics_columns, text_column=text_columns, categorical_columns=categorical_columns)\n",
    "transform.fit(data)\n",
    "trns = transform.transform(data)\n",
    "with open('../../data/files/transformer.dill', 'wb') as f:\n",
    "    dill.dump(transform, f)\n",
    "data_trains = pd.read_csv('../../data/structured/carbon_train.csv')\n",
    "data_trains =  transform.transform(data_trains)\n",
    "data_trains.to_csv('../../data/processed/train.csv')\n",
    "data_test = pd.read_csv('../../data/test/carbon_test.csv')\n",
    "data_test = transform.transform(data_test)\n",
    "data_test.to_csv('../../data/processed/test.csv', index=False)"
   ]
  }
 ],
 "metadata": {
  "kernelspec": {
   "display_name": "env",
   "language": "python",
   "name": "python3"
  },
  "language_info": {
   "codemirror_mode": {
    "name": "ipython",
    "version": 3
   },
   "file_extension": ".py",
   "mimetype": "text/x-python",
   "name": "python",
   "nbconvert_exporter": "python",
   "pygments_lexer": "ipython3",
   "version": "3.12.9"
  }
 },
 "nbformat": 4,
 "nbformat_minor": 5
}
