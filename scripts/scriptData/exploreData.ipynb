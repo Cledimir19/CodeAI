{
 "cells": [
  {
   "cell_type": "code",
   "execution_count": 1,
   "id": "2e163bc0",
   "metadata": {},
   "outputs": [],
   "source": [
    "from rich import print"
   ]
  },
  {
   "cell_type": "code",
   "execution_count": 2,
   "id": "7f152e5f",
   "metadata": {},
   "outputs": [
    {
     "data": {
      "text/html": [
       "\n",
       "            <div>\n",
       "                <ins><a href=\"https://ydata.ai/register\">Upgrade to ydata-sdk</a></ins>\n",
       "                <p>\n",
       "                    Improve your data and profiling with ydata-sdk, featuring data quality scoring, redundancy detection, outlier identification, text validation, and synthetic data generation.\n",
       "                </p>\n",
       "            </div>\n",
       "            "
      ],
      "text/plain": [
       "<IPython.core.display.HTML object>"
      ]
     },
     "metadata": {},
     "output_type": "display_data"
    }
   ],
   "source": [
    "import pandas as pd\n",
    "from ydata_profiling import ProfileReport\n",
    "\n",
    "data = pd.read_csv(\"../../data/structured/carbon.csv\")\n",
    "# profile = ProfileReport(data, title=\"Carbon Emissions Data Profiling Report\", explorative=True)\n",
    "# profile.to_file('../../data/files/analysis.html')"
   ]
  },
  {
   "cell_type": "code",
   "execution_count": 3,
   "id": "bc0b838a",
   "metadata": {},
   "outputs": [],
   "source": [
    "data.drop(columns=['TID', 'logger'],inplace=True)"
   ]
  },
  {
   "cell_type": "code",
   "execution_count": 4,
   "id": "070ce889",
   "metadata": {},
   "outputs": [],
   "source": [
    "def organizar_por_timestamp_context(df, col_timestamp='timestamp', col_context='context'):\n",
    "    \"\"\"\n",
    "    Ordena o DataFrame pelo timestamp crescente e depois pelo context.\n",
    "    \n",
    "    Parâmetros:\n",
    "        df: pandas.DataFrame\n",
    "        col_timestamp: nome da coluna de timestamp\n",
    "        col_context: nome da coluna de contexto\n",
    "    Retorna:\n",
    "        DataFrame ordenado\n",
    "    \"\"\"\n",
    "    # Garantir que a coluna de timestamp é datetime\n",
    "    df[col_timestamp] = pd.to_datetime(df[col_timestamp])\n",
    "    # Ordenar pelos dois campos\n",
    "    df_ordenado = df.sort_values(by=[col_context,col_timestamp], ascending=[True, True]).reset_index(drop=True)\n",
    "    return df_ordenado\n",
    "\n",
    "data = organizar_por_timestamp_context(data)\n"
   ]
  },
  {
   "cell_type": "code",
   "execution_count": 5,
   "id": "e49c25c9",
   "metadata": {},
   "outputs": [],
   "source": [
    "data['timestamp'] = pd.to_datetime(data['timestamp'])\n",
    "data['ano'] = data['timestamp'].dt.year\n",
    "data['mes'] = data['timestamp'].dt.month\n",
    "data['dia'] = data['timestamp'].dt.day\n",
    "data['hora'] = data['timestamp'].dt.hour\n",
    "data['minuto'] = data['timestamp'].dt.minute\n",
    "data['segundo'] = data['timestamp'].dt.second\n",
    "data.drop(columns=['timestamp'], inplace=True)\n"
   ]
  },
  {
   "cell_type": "code",
   "execution_count": 6,
   "id": "25e72278",
   "metadata": {},
   "outputs": [
    {
     "data": {
      "text/html": [
       "<pre style=\"white-space:pre;overflow-x:auto;line-height:normal;font-family:Menlo,'DejaVu Sans Mono',consolas,'Courier New',monospace\">Total de ano diferentes: <span style=\"color: #008080; text-decoration-color: #008080; font-weight: bold\">2</span>\n",
       "</pre>\n"
      ],
      "text/plain": [
       "Total de ano diferentes: \u001b[1;36m2\u001b[0m\n"
      ]
     },
     "metadata": {},
     "output_type": "display_data"
    },
    {
     "data": {
      "text/html": [
       "<pre style=\"white-space:pre;overflow-x:auto;line-height:normal;font-family:Menlo,'DejaVu Sans Mono',consolas,'Courier New',monospace\">Total de mes diferentes: <span style=\"color: #008080; text-decoration-color: #008080; font-weight: bold\">3</span>\n",
       "</pre>\n"
      ],
      "text/plain": [
       "Total de mes diferentes: \u001b[1;36m3\u001b[0m\n"
      ]
     },
     "metadata": {},
     "output_type": "display_data"
    },
    {
     "data": {
      "text/html": [
       "<pre style=\"white-space:pre;overflow-x:auto;line-height:normal;font-family:Menlo,'DejaVu Sans Mono',consolas,'Courier New',monospace\">Total de dia diferentes: <span style=\"color: #008080; text-decoration-color: #008080; font-weight: bold\">31</span>\n",
       "</pre>\n"
      ],
      "text/plain": [
       "Total de dia diferentes: \u001b[1;36m31\u001b[0m\n"
      ]
     },
     "metadata": {},
     "output_type": "display_data"
    },
    {
     "data": {
      "text/html": [
       "<pre style=\"white-space:pre;overflow-x:auto;line-height:normal;font-family:Menlo,'DejaVu Sans Mono',consolas,'Courier New',monospace\">Total de hora diferentes: <span style=\"color: #008080; text-decoration-color: #008080; font-weight: bold\">24</span>\n",
       "</pre>\n"
      ],
      "text/plain": [
       "Total de hora diferentes: \u001b[1;36m24\u001b[0m\n"
      ]
     },
     "metadata": {},
     "output_type": "display_data"
    },
    {
     "data": {
      "text/html": [
       "<pre style=\"white-space:pre;overflow-x:auto;line-height:normal;font-family:Menlo,'DejaVu Sans Mono',consolas,'Courier New',monospace\">Total de minuto diferentes: <span style=\"color: #008080; text-decoration-color: #008080; font-weight: bold\">60</span>\n",
       "</pre>\n"
      ],
      "text/plain": [
       "Total de minuto diferentes: \u001b[1;36m60\u001b[0m\n"
      ]
     },
     "metadata": {},
     "output_type": "display_data"
    },
    {
     "data": {
      "text/html": [
       "<pre style=\"white-space:pre;overflow-x:auto;line-height:normal;font-family:Menlo,'DejaVu Sans Mono',consolas,'Courier New',monospace\">Total de segundo diferentes: <span style=\"color: #008080; text-decoration-color: #008080; font-weight: bold\">60</span>\n",
       "</pre>\n"
      ],
      "text/plain": [
       "Total de segundo diferentes: \u001b[1;36m60\u001b[0m\n"
      ]
     },
     "metadata": {},
     "output_type": "display_data"
    }
   ],
   "source": [
    "print(f'Total de ano diferentes: {data[\"ano\"].nunique()}')\n",
    "print(f'Total de mes diferentes: {data[\"mes\"].nunique()}')\n",
    "print(f'Total de dia diferentes: {data[\"dia\"].nunique()}')\n",
    "print(f'Total de hora diferentes: {data[\"hora\"].nunique()}')\n",
    "print(f'Total de minuto diferentes: {data[\"minuto\"].nunique()}')\n",
    "print(f'Total de segundo diferentes: {data[\"segundo\"].nunique()}')"
   ]
  },
  {
   "cell_type": "code",
   "execution_count": 7,
   "id": "b0a2f108",
   "metadata": {},
   "outputs": [
    {
     "data": {
      "text/html": [
       "<pre style=\"white-space:pre;overflow-x:auto;line-height:normal;font-family:Menlo,'DejaVu Sans Mono',consolas,'Courier New',monospace\">Index: <span style=\"color: #008080; text-decoration-color: #008080; font-weight: bold\">0</span>, Level: ERROR\n",
       "</pre>\n"
      ],
      "text/plain": [
       "Index: \u001b[1;36m0\u001b[0m, Level: ERROR\n"
      ]
     },
     "metadata": {},
     "output_type": "display_data"
    },
    {
     "data": {
      "application/vnd.microsoft.datawrangler.viewer.v0+json": {
       "columns": [
        {
         "name": "index",
         "rawType": "object",
         "type": "string"
        },
        {
         "name": "0",
         "rawType": "object",
         "type": "unknown"
        }
       ],
       "ref": "66680a43-9446-4cbb-a50e-99672525f18d",
       "rows": [
        [
         "level",
         "ERROR"
        ],
        [
         "context",
         "API_LOGGER._OpenService_"
        ],
        [
         "message",
         "Error while building message. Error while building Passthrough stream org.apache.axis2.AxisFault: Error while building Passthrough stream"
        ],
        [
         "ano",
         "2024"
        ],
        [
         "mes",
         "12"
        ],
        [
         "dia",
         "3"
        ],
        [
         "hora",
         "19"
        ],
        [
         "minuto",
         "37"
        ],
        [
         "segundo",
         "10"
        ]
       ],
       "shape": {
        "columns": 1,
        "rows": 9
       }
      },
      "text/plain": [
       "level                                                  ERROR\n",
       "context                             API_LOGGER._OpenService_\n",
       "message    Error while building message. Error while buil...\n",
       "ano                                                     2024\n",
       "mes                                                       12\n",
       "dia                                                        3\n",
       "hora                                                      19\n",
       "minuto                                                    37\n",
       "segundo                                                   10\n",
       "Name: 0, dtype: object"
      ]
     },
     "metadata": {},
     "output_type": "display_data"
    }
   ],
   "source": [
    "index = 0\n",
    "for level in data['level']:\n",
    "    if level in ['ERROR','WARN']:\n",
    "        print(f'Index: {index}, Level: {level}')\n",
    "        break\n",
    "    index += 1\n",
    "display(data.iloc[index])"
   ]
  },
  {
   "cell_type": "code",
   "execution_count": 8,
   "id": "fd744d36",
   "metadata": {},
   "outputs": [],
   "source": [
    "# Seleciona mensagens únicas do nível ERROR\n",
    "mensagens_erro = data['message'][data['level'] == 'ERROR'].unique()\n",
    "\n",
    "# Salva cada mensagem em uma nova linha de um arquivo .txt\n",
    "with open(\"../../data/files/unique_error.txt\", \"w\", encoding=\"utf-8\") as f:\n",
    "    for mensagem in mensagens_erro:\n",
    "        f.write(str(mensagem) + \"\\n\")\n"
   ]
  },
  {
   "cell_type": "code",
   "execution_count": 9,
   "id": "4248342c",
   "metadata": {},
   "outputs": [],
   "source": [
    "import pandas as pd\n",
    "\n",
    "def filtrar_e_salvar_erros(\n",
    "    df, \n",
    "    coluna_msg='message', \n",
    "    coluna_nivel='level', \n",
    "    termo_excluir='#getNewJsonPayload',\n",
    "    nivel_erro='ERROR',\n",
    "    caminho_saida='unique_error.txt'\n",
    "):\n",
    "    # Remove linhas com o termo indesejado\n",
    "    dataM = df[~df[coluna_msg].str.contains(termo_excluir, na=False)].reset_index(drop=True)\n",
    "    \n",
    "    # Seleciona mensagens únicas do nível especificado\n",
    "    mensagens_erro = dataM[coluna_msg][dataM[coluna_nivel] == nivel_erro].unique()\n",
    "    \n",
    "    # Salva no arquivo txt\n",
    "    with open(caminho_saida, \"w\", encoding=\"utf-8\") as f:\n",
    "        for mensagem in mensagens_erro:\n",
    "            f.write(str(mensagem) + \"\\n\")\n",
    "    \n",
    "    return dataM.reset_index(drop=True)\n",
    "\n",
    "# Exemplo de uso:\n"
   ]
  },
  {
   "cell_type": "code",
   "execution_count": 10,
   "metadata": {},
   "outputs": [],
   "source": [
    "dataM = filtrar_e_salvar_erros(data, caminho_saida=\"../../data/files/unique_error1.txt\")\n",
    "dataCNHR = filtrar_e_salvar_erros(dataM,caminho_saida=\"../../data/files/unique_error2.txt\",termo_excluir='Could not handle request')\n",
    "dataDSAF = filtrar_e_salvar_erros(dataCNHR,caminho_saida=\"../../data/files/unique_error3.txt\",termo_excluir='Deployment of synapse artifact failed')\n",
    "dataFSNRT = filtrar_e_salvar_erros(dataDSAF,caminho_saida=\"../../data/files/unique_error4.txt\",termo_excluir='Failed to start new registry transaction')\n",
    "dataKMRKMAIT = filtrar_e_salvar_erros(dataFSNRT,caminho_saida=\"../../data/files/unique_error5.txt\",termo_excluir='Key Manager Resident Key Manager already initialized in tenant')\n",
    "dataKMRKMAIT = filtrar_e_salvar_erros(dataKMRKMAIT,caminho_saida=\"../../data/files/unique_error6.txt\",termo_excluir='HttpException occurred')"
   ]
  },
  {
   "cell_type": "code",
   "execution_count": 11,
   "id": "2cb99bc2",
   "metadata": {},
   "outputs": [],
   "source": [
    "df = dataKMRKMAIT"
   ]
  },
  {
   "cell_type": "code",
   "execution_count": 12,
   "id": "9a77ba7c",
   "metadata": {},
   "outputs": [
    {
     "data": {
      "text/html": [
       "<pre style=\"white-space:pre;overflow-x:auto;line-height:normal;font-family:Menlo,'DejaVu Sans Mono',consolas,'Courier New',monospace\">Total de mensagens filtradas: <span style=\"color: #008080; text-decoration-color: #008080; font-weight: bold\">867892</span>\n",
       "</pre>\n"
      ],
      "text/plain": [
       "Total de mensagens filtradas: \u001b[1;36m867892\u001b[0m\n"
      ]
     },
     "metadata": {},
     "output_type": "display_data"
    }
   ],
   "source": [
    "print(f\"Total de mensagens filtradas: {len(df)}\")"
   ]
  },
  {
   "cell_type": "code",
   "execution_count": null,
   "id": "180c562c",
   "metadata": {},
   "outputs": [],
   "source": [
    "data"
   ]
  }
 ],
 "metadata": {
  "kernelspec": {
   "display_name": "env",
   "language": "python",
   "name": "python3"
  },
  "language_info": {
   "codemirror_mode": {
    "name": "ipython",
    "version": 3
   },
   "file_extension": ".py",
   "mimetype": "text/x-python",
   "name": "python",
   "nbconvert_exporter": "python",
   "pygments_lexer": "ipython3",
   "version": "3.12.9"
  }
 },
 "nbformat": 4,
 "nbformat_minor": 5
}
